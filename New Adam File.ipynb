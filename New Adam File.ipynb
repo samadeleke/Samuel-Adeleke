{
 "cells": [
  {
   "cell_type": "markdown",
   "id": "00780a1b",
   "metadata": {},
   "source": [
    "# Data Preprocessing"
   ]
  },
  {
   "cell_type": "code",
   "execution_count": 2,
   "id": "c2a632fb",
   "metadata": {},
   "outputs": [],
   "source": [
    "import numpy as np\n",
    "import pandas as pd\n",
    "import matplotlib.pyplot as plt\n",
    "import seaborn as sns"
   ]
  },
  {
   "cell_type": "code",
   "execution_count": 3,
   "id": "56ed478a",
   "metadata": {
    "scrolled": false
   },
   "outputs": [
    {
     "data": {
      "text/html": [
       "<div>\n",
       "<style scoped>\n",
       "    .dataframe tbody tr th:only-of-type {\n",
       "        vertical-align: middle;\n",
       "    }\n",
       "\n",
       "    .dataframe tbody tr th {\n",
       "        vertical-align: top;\n",
       "    }\n",
       "\n",
       "    .dataframe thead th {\n",
       "        text-align: right;\n",
       "    }\n",
       "</style>\n",
       "<table border=\"1\" class=\"dataframe\">\n",
       "  <thead>\n",
       "    <tr style=\"text-align: right;\">\n",
       "      <th></th>\n",
       "      <th>step</th>\n",
       "      <th>type</th>\n",
       "      <th>amount</th>\n",
       "      <th>nameOrig</th>\n",
       "      <th>oldbalanceOrg</th>\n",
       "      <th>newbalanceOrig</th>\n",
       "      <th>nameDest</th>\n",
       "      <th>oldbalanceDest</th>\n",
       "      <th>newbalanceDest</th>\n",
       "      <th>isFraud</th>\n",
       "      <th>isFlaggedFraud</th>\n",
       "    </tr>\n",
       "  </thead>\n",
       "  <tbody>\n",
       "    <tr>\n",
       "      <th>0</th>\n",
       "      <td>1</td>\n",
       "      <td>PAYMENT</td>\n",
       "      <td>9839.64</td>\n",
       "      <td>C1231006815</td>\n",
       "      <td>170136.00</td>\n",
       "      <td>160296.36</td>\n",
       "      <td>M1979787155</td>\n",
       "      <td>0.00</td>\n",
       "      <td>0.00</td>\n",
       "      <td>0</td>\n",
       "      <td>0</td>\n",
       "    </tr>\n",
       "    <tr>\n",
       "      <th>1</th>\n",
       "      <td>1</td>\n",
       "      <td>PAYMENT</td>\n",
       "      <td>1864.28</td>\n",
       "      <td>C1666544295</td>\n",
       "      <td>21249.00</td>\n",
       "      <td>19384.72</td>\n",
       "      <td>M2044282225</td>\n",
       "      <td>0.00</td>\n",
       "      <td>0.00</td>\n",
       "      <td>0</td>\n",
       "      <td>0</td>\n",
       "    </tr>\n",
       "    <tr>\n",
       "      <th>2</th>\n",
       "      <td>1</td>\n",
       "      <td>TRANSFER</td>\n",
       "      <td>181.00</td>\n",
       "      <td>C1305486145</td>\n",
       "      <td>181.00</td>\n",
       "      <td>0.00</td>\n",
       "      <td>C553264065</td>\n",
       "      <td>0.00</td>\n",
       "      <td>0.00</td>\n",
       "      <td>1</td>\n",
       "      <td>0</td>\n",
       "    </tr>\n",
       "    <tr>\n",
       "      <th>3</th>\n",
       "      <td>1</td>\n",
       "      <td>CASH_OUT</td>\n",
       "      <td>181.00</td>\n",
       "      <td>C840083671</td>\n",
       "      <td>181.00</td>\n",
       "      <td>0.00</td>\n",
       "      <td>C38997010</td>\n",
       "      <td>21182.00</td>\n",
       "      <td>0.00</td>\n",
       "      <td>1</td>\n",
       "      <td>0</td>\n",
       "    </tr>\n",
       "    <tr>\n",
       "      <th>4</th>\n",
       "      <td>1</td>\n",
       "      <td>PAYMENT</td>\n",
       "      <td>11668.14</td>\n",
       "      <td>C2048537720</td>\n",
       "      <td>41554.00</td>\n",
       "      <td>29885.86</td>\n",
       "      <td>M1230701703</td>\n",
       "      <td>0.00</td>\n",
       "      <td>0.00</td>\n",
       "      <td>0</td>\n",
       "      <td>0</td>\n",
       "    </tr>\n",
       "    <tr>\n",
       "      <th>...</th>\n",
       "      <td>...</td>\n",
       "      <td>...</td>\n",
       "      <td>...</td>\n",
       "      <td>...</td>\n",
       "      <td>...</td>\n",
       "      <td>...</td>\n",
       "      <td>...</td>\n",
       "      <td>...</td>\n",
       "      <td>...</td>\n",
       "      <td>...</td>\n",
       "      <td>...</td>\n",
       "    </tr>\n",
       "    <tr>\n",
       "      <th>6362615</th>\n",
       "      <td>743</td>\n",
       "      <td>CASH_OUT</td>\n",
       "      <td>339682.13</td>\n",
       "      <td>C786484425</td>\n",
       "      <td>339682.13</td>\n",
       "      <td>0.00</td>\n",
       "      <td>C776919290</td>\n",
       "      <td>0.00</td>\n",
       "      <td>339682.13</td>\n",
       "      <td>1</td>\n",
       "      <td>0</td>\n",
       "    </tr>\n",
       "    <tr>\n",
       "      <th>6362616</th>\n",
       "      <td>743</td>\n",
       "      <td>TRANSFER</td>\n",
       "      <td>6311409.28</td>\n",
       "      <td>C1529008245</td>\n",
       "      <td>6311409.28</td>\n",
       "      <td>0.00</td>\n",
       "      <td>C1881841831</td>\n",
       "      <td>0.00</td>\n",
       "      <td>0.00</td>\n",
       "      <td>1</td>\n",
       "      <td>0</td>\n",
       "    </tr>\n",
       "    <tr>\n",
       "      <th>6362617</th>\n",
       "      <td>743</td>\n",
       "      <td>CASH_OUT</td>\n",
       "      <td>6311409.28</td>\n",
       "      <td>C1162922333</td>\n",
       "      <td>6311409.28</td>\n",
       "      <td>0.00</td>\n",
       "      <td>C1365125890</td>\n",
       "      <td>68488.84</td>\n",
       "      <td>6379898.11</td>\n",
       "      <td>1</td>\n",
       "      <td>0</td>\n",
       "    </tr>\n",
       "    <tr>\n",
       "      <th>6362618</th>\n",
       "      <td>743</td>\n",
       "      <td>TRANSFER</td>\n",
       "      <td>850002.52</td>\n",
       "      <td>C1685995037</td>\n",
       "      <td>850002.52</td>\n",
       "      <td>0.00</td>\n",
       "      <td>C2080388513</td>\n",
       "      <td>0.00</td>\n",
       "      <td>0.00</td>\n",
       "      <td>1</td>\n",
       "      <td>0</td>\n",
       "    </tr>\n",
       "    <tr>\n",
       "      <th>6362619</th>\n",
       "      <td>743</td>\n",
       "      <td>CASH_OUT</td>\n",
       "      <td>850002.52</td>\n",
       "      <td>C1280323807</td>\n",
       "      <td>850002.52</td>\n",
       "      <td>0.00</td>\n",
       "      <td>C873221189</td>\n",
       "      <td>6510099.11</td>\n",
       "      <td>7360101.63</td>\n",
       "      <td>1</td>\n",
       "      <td>0</td>\n",
       "    </tr>\n",
       "  </tbody>\n",
       "</table>\n",
       "<p>6362620 rows × 11 columns</p>\n",
       "</div>"
      ],
      "text/plain": [
       "         step      type      amount     nameOrig  oldbalanceOrg  \\\n",
       "0           1   PAYMENT     9839.64  C1231006815      170136.00   \n",
       "1           1   PAYMENT     1864.28  C1666544295       21249.00   \n",
       "2           1  TRANSFER      181.00  C1305486145         181.00   \n",
       "3           1  CASH_OUT      181.00   C840083671         181.00   \n",
       "4           1   PAYMENT    11668.14  C2048537720       41554.00   \n",
       "...       ...       ...         ...          ...            ...   \n",
       "6362615   743  CASH_OUT   339682.13   C786484425      339682.13   \n",
       "6362616   743  TRANSFER  6311409.28  C1529008245     6311409.28   \n",
       "6362617   743  CASH_OUT  6311409.28  C1162922333     6311409.28   \n",
       "6362618   743  TRANSFER   850002.52  C1685995037      850002.52   \n",
       "6362619   743  CASH_OUT   850002.52  C1280323807      850002.52   \n",
       "\n",
       "         newbalanceOrig     nameDest  oldbalanceDest  newbalanceDest  isFraud  \\\n",
       "0             160296.36  M1979787155            0.00            0.00        0   \n",
       "1              19384.72  M2044282225            0.00            0.00        0   \n",
       "2                  0.00   C553264065            0.00            0.00        1   \n",
       "3                  0.00    C38997010        21182.00            0.00        1   \n",
       "4              29885.86  M1230701703            0.00            0.00        0   \n",
       "...                 ...          ...             ...             ...      ...   \n",
       "6362615            0.00   C776919290            0.00       339682.13        1   \n",
       "6362616            0.00  C1881841831            0.00            0.00        1   \n",
       "6362617            0.00  C1365125890        68488.84      6379898.11        1   \n",
       "6362618            0.00  C2080388513            0.00            0.00        1   \n",
       "6362619            0.00   C873221189      6510099.11      7360101.63        1   \n",
       "\n",
       "         isFlaggedFraud  \n",
       "0                     0  \n",
       "1                     0  \n",
       "2                     0  \n",
       "3                     0  \n",
       "4                     0  \n",
       "...                 ...  \n",
       "6362615               0  \n",
       "6362616               0  \n",
       "6362617               0  \n",
       "6362618               0  \n",
       "6362619               0  \n",
       "\n",
       "[6362620 rows x 11 columns]"
      ]
     },
     "execution_count": 3,
     "metadata": {},
     "output_type": "execute_result"
    }
   ],
   "source": [
    "df=pd.read_csv('C:\\\\Users\\\\USER-PC\\\\Downloads\\\\onlinefraud.csv~1\\\\onlinefraud.csv')\n",
    "df"
   ]
  },
  {
   "cell_type": "code",
   "execution_count": 4,
   "id": "1f75fcdb",
   "metadata": {
    "scrolled": false
   },
   "outputs": [
    {
     "name": "stdout",
     "output_type": "stream",
     "text": [
      "Index(['step', 'type', 'amount', 'nameOrig', 'oldbalanceOrg', 'newbalanceOrig',\n",
      "       'nameDest', 'oldbalanceDest', 'newbalanceDest', 'isFraud',\n",
      "       'isFlaggedFraud'],\n",
      "      dtype='object')\n"
     ]
    }
   ],
   "source": [
    "print(df.columns)"
   ]
  },
  {
   "cell_type": "code",
   "execution_count": 5,
   "id": "ec2d0748",
   "metadata": {
    "scrolled": true
   },
   "outputs": [
    {
     "data": {
      "text/plain": [
       "array(['PAYMENT', 'TRANSFER', 'CASH_OUT', 'DEBIT', 'CASH_IN'],\n",
       "      dtype=object)"
      ]
     },
     "execution_count": 5,
     "metadata": {},
     "output_type": "execute_result"
    }
   ],
   "source": [
    "df.type.unique()"
   ]
  },
  {
   "cell_type": "code",
   "execution_count": 6,
   "id": "826a1a6c",
   "metadata": {
    "scrolled": true
   },
   "outputs": [
    {
     "name": "stdout",
     "output_type": "stream",
     "text": [
      "<class 'pandas.core.frame.DataFrame'>\n",
      "RangeIndex: 6362620 entries, 0 to 6362619\n",
      "Data columns (total 11 columns):\n",
      " #   Column          Dtype  \n",
      "---  ------          -----  \n",
      " 0   step            int64  \n",
      " 1   type            object \n",
      " 2   amount          float64\n",
      " 3   nameOrig        object \n",
      " 4   oldbalanceOrg   float64\n",
      " 5   newbalanceOrig  float64\n",
      " 6   nameDest        object \n",
      " 7   oldbalanceDest  float64\n",
      " 8   newbalanceDest  float64\n",
      " 9   isFraud         int64  \n",
      " 10  isFlaggedFraud  int64  \n",
      "dtypes: float64(5), int64(3), object(3)\n",
      "memory usage: 534.0+ MB\n"
     ]
    }
   ],
   "source": [
    "df.info()"
   ]
  },
  {
   "cell_type": "code",
   "execution_count": 7,
   "id": "0ded29b7",
   "metadata": {},
   "outputs": [
    {
     "data": {
      "text/plain": [
       "step              0\n",
       "type              0\n",
       "amount            0\n",
       "nameOrig          0\n",
       "oldbalanceOrg     0\n",
       "newbalanceOrig    0\n",
       "nameDest          0\n",
       "oldbalanceDest    0\n",
       "newbalanceDest    0\n",
       "isFraud           0\n",
       "isFlaggedFraud    0\n",
       "dtype: int64"
      ]
     },
     "execution_count": 7,
     "metadata": {},
     "output_type": "execute_result"
    }
   ],
   "source": [
    "df.isna().sum()"
   ]
  },
  {
   "cell_type": "code",
   "execution_count": 8,
   "id": "fd1bd918",
   "metadata": {},
   "outputs": [
    {
     "data": {
      "text/plain": [
       "array([0, 1], dtype=int64)"
      ]
     },
     "execution_count": 8,
     "metadata": {},
     "output_type": "execute_result"
    }
   ],
   "source": [
    "df.isFraud.unique()"
   ]
  },
  {
   "cell_type": "markdown",
   "id": "38331e74",
   "metadata": {},
   "source": [
    "# Descriptive Analysis"
   ]
  },
  {
   "cell_type": "code",
   "execution_count": 9,
   "id": "b6ef3c05",
   "metadata": {
    "scrolled": true
   },
   "outputs": [
    {
     "name": "stdout",
     "output_type": "stream",
     "text": [
      "CASH_OUT    2237500\n",
      "PAYMENT     2151495\n",
      "CASH_IN     1399284\n",
      "TRANSFER     532909\n",
      "DEBIT         41432\n",
      "Name: type, dtype: int64\n"
     ]
    }
   ],
   "source": [
    "data= print(df.type.value_counts())"
   ]
  },
  {
   "cell_type": "code",
   "execution_count": 10,
   "id": "5d2b0445",
   "metadata": {},
   "outputs": [
    {
     "data": {
      "image/png": "[encoded data removed]",
      "text/plain": [
       "<Figure size 800x800 with 1 Axes>"
      ]
     },
     "metadata": {},
     "output_type": "display_data"
    }
   ],
   "source": [
    "type_counts = df[\"type\"].value_counts()\n",
    "plt.figure(figsize=(8, 8))\n",
    "plt.pie(type_counts, labels=type_counts.index, autopct='%1.1f%%', startangle=90)\n",
    "plt.title(\"Distribution Transaction Type\")\n",
    "plt.show()"
   ]
  },
  {
   "cell_type": "code",
   "execution_count": 11,
   "id": "d91e28ec",
   "metadata": {
    "scrolled": true
   },
   "outputs": [
    {
     "data": {
      "image/png": "[encoded data removed]",
      "text/plain": [
       "<Figure size 1000x600 with 1 Axes>"
      ]
     },
     "metadata": {},
     "output_type": "display_data"
    }
   ],
   "source": [
    "colors = ['skyblue', 'salmon', 'lightgreen', 'orange', 'lightcoral']\n",
    "plt.figure(figsize=(10, 6))\n",
    "type_counts.plot(kind='bar', color=colors)\n",
    "plt.xlabel('Transaction Type')\n",
    "plt.ylabel('Quantity')\n",
    "plt.title('Distribution of Transaction Type')\n",
    "plt.xticks(rotation=45, ha='right')\n",
    "plt.tight_layout()\n",
    "plt.show()"
   ]
  },
  {
   "cell_type": "markdown",
   "id": "b8d3ffbf",
   "metadata": {},
   "source": [
    "The plot above reveals that there were Five different transactions that took place, namely  Cash out, payment, Cash_in, Transfer and debit with the percentage occurence of 35.2%,33.8%,22.0%, 8.4% and 0.7% respectively.The result of this description further reveals that the cash_out transaction had the highest number of occurence while debit transaction has the lowest."
   ]
  },
  {
   "cell_type": "code",
   "execution_count": 12,
   "id": "b3a377da",
   "metadata": {
    "scrolled": false
   },
   "outputs": [
    {
     "data": {
      "text/html": [
       "<div>\n",
       "<style scoped>\n",
       "    .dataframe tbody tr th:only-of-type {\n",
       "        vertical-align: middle;\n",
       "    }\n",
       "\n",
       "    .dataframe tbody tr th {\n",
       "        vertical-align: top;\n",
       "    }\n",
       "\n",
       "    .dataframe thead th {\n",
       "        text-align: right;\n",
       "    }\n",
       "</style>\n",
       "<table border=\"1\" class=\"dataframe\">\n",
       "  <thead>\n",
       "    <tr style=\"text-align: right;\">\n",
       "      <th></th>\n",
       "      <th>step</th>\n",
       "      <th>amount</th>\n",
       "      <th>oldbalanceOrg</th>\n",
       "      <th>newbalanceOrig</th>\n",
       "      <th>oldbalanceDest</th>\n",
       "      <th>newbalanceDest</th>\n",
       "      <th>isFraud</th>\n",
       "      <th>isFlaggedFraud</th>\n",
       "    </tr>\n",
       "  </thead>\n",
       "  <tbody>\n",
       "    <tr>\n",
       "      <th>count</th>\n",
       "      <td>6362620.00</td>\n",
       "      <td>6362620.00</td>\n",
       "      <td>6362620.00</td>\n",
       "      <td>6362620.00</td>\n",
       "      <td>6.362620e+06</td>\n",
       "      <td>6.362620e+06</td>\n",
       "      <td>6362620.00</td>\n",
       "      <td>6362620.0</td>\n",
       "    </tr>\n",
       "    <tr>\n",
       "      <th>mean</th>\n",
       "      <td>243.40</td>\n",
       "      <td>179861.90</td>\n",
       "      <td>833883.10</td>\n",
       "      <td>855113.67</td>\n",
       "      <td>1.100702e+06</td>\n",
       "      <td>1.224996e+06</td>\n",
       "      <td>0.00</td>\n",
       "      <td>0.0</td>\n",
       "    </tr>\n",
       "    <tr>\n",
       "      <th>std</th>\n",
       "      <td>142.33</td>\n",
       "      <td>603858.23</td>\n",
       "      <td>2888242.67</td>\n",
       "      <td>2924048.50</td>\n",
       "      <td>3.399180e+06</td>\n",
       "      <td>3.674129e+06</td>\n",
       "      <td>0.04</td>\n",
       "      <td>0.0</td>\n",
       "    </tr>\n",
       "    <tr>\n",
       "      <th>min</th>\n",
       "      <td>1.00</td>\n",
       "      <td>0.00</td>\n",
       "      <td>0.00</td>\n",
       "      <td>0.00</td>\n",
       "      <td>0.000000e+00</td>\n",
       "      <td>0.000000e+00</td>\n",
       "      <td>0.00</td>\n",
       "      <td>0.0</td>\n",
       "    </tr>\n",
       "    <tr>\n",
       "      <th>25%</th>\n",
       "      <td>156.00</td>\n",
       "      <td>13389.57</td>\n",
       "      <td>0.00</td>\n",
       "      <td>0.00</td>\n",
       "      <td>0.000000e+00</td>\n",
       "      <td>0.000000e+00</td>\n",
       "      <td>0.00</td>\n",
       "      <td>0.0</td>\n",
       "    </tr>\n",
       "    <tr>\n",
       "      <th>50%</th>\n",
       "      <td>239.00</td>\n",
       "      <td>74871.94</td>\n",
       "      <td>14208.00</td>\n",
       "      <td>0.00</td>\n",
       "      <td>1.327057e+05</td>\n",
       "      <td>2.146614e+05</td>\n",
       "      <td>0.00</td>\n",
       "      <td>0.0</td>\n",
       "    </tr>\n",
       "    <tr>\n",
       "      <th>75%</th>\n",
       "      <td>335.00</td>\n",
       "      <td>208721.48</td>\n",
       "      <td>107315.18</td>\n",
       "      <td>144258.41</td>\n",
       "      <td>9.430367e+05</td>\n",
       "      <td>1.111909e+06</td>\n",
       "      <td>0.00</td>\n",
       "      <td>0.0</td>\n",
       "    </tr>\n",
       "    <tr>\n",
       "      <th>max</th>\n",
       "      <td>743.00</td>\n",
       "      <td>92445516.64</td>\n",
       "      <td>59585040.37</td>\n",
       "      <td>49585040.37</td>\n",
       "      <td>3.560159e+08</td>\n",
       "      <td>3.561793e+08</td>\n",
       "      <td>1.00</td>\n",
       "      <td>1.0</td>\n",
       "    </tr>\n",
       "  </tbody>\n",
       "</table>\n",
       "</div>"
      ],
      "text/plain": [
       "             step       amount  oldbalanceOrg  newbalanceOrig  oldbalanceDest  \\\n",
       "count  6362620.00   6362620.00     6362620.00      6362620.00    6.362620e+06   \n",
       "mean       243.40    179861.90      833883.10       855113.67    1.100702e+06   \n",
       "std        142.33    603858.23     2888242.67      2924048.50    3.399180e+06   \n",
       "min          1.00         0.00           0.00            0.00    0.000000e+00   \n",
       "25%        156.00     13389.57           0.00            0.00    0.000000e+00   \n",
       "50%        239.00     74871.94       14208.00            0.00    1.327057e+05   \n",
       "75%        335.00    208721.48      107315.18       144258.41    9.430367e+05   \n",
       "max        743.00  92445516.64    59585040.37     49585040.37    3.560159e+08   \n",
       "\n",
       "       newbalanceDest     isFraud  isFlaggedFraud  \n",
       "count    6.362620e+06  6362620.00       6362620.0  \n",
       "mean     1.224996e+06        0.00             0.0  \n",
       "std      3.674129e+06        0.04             0.0  \n",
       "min      0.000000e+00        0.00             0.0  \n",
       "25%      0.000000e+00        0.00             0.0  \n",
       "50%      2.146614e+05        0.00             0.0  \n",
       "75%      1.111909e+06        0.00             0.0  \n",
       "max      3.561793e+08        1.00             1.0  "
      ]
     },
     "execution_count": 12,
     "metadata": {},
     "output_type": "execute_result"
    }
   ],
   "source": [
    "df.describe().round(2)"
   ]
  },
  {
   "cell_type": "markdown",
   "id": "d1fd21e6",
   "metadata": {},
   "source": [
    "From the result of descriptive analysis,it was discovered that the total number of transactions that took place was 6362620.00, the average amount involved in any transaction was 179861.90, the minimum amount was 0.00, while the maximum amount was 92445516.64. The result further shows the average balance in the origin account before the transaction occured was 833883.10, the minimum balance was 0.00 while the maximum was 59585040.37, the average account balance in the origin account after the occurence of transaction was 855113.67, the minimum balance was 0.00, while the maximum was 144258.41. Conversely, the result shows that the average balance in the destination account before any transactions was 1.100702e+06, the minimum was 0.000000e+00, while the maximum was 3.560159e+08, the average balance in the destination account after transaction was 1.224996e+06, the minimum  balance was 0.000000e+00, while the maximum was 3.561793e+08. "
   ]
  },
  {
   "cell_type": "markdown",
   "id": "d110aaae",
   "metadata": {},
   "source": [
    "# Data Transformation"
   ]
  },
  {
   "cell_type": "code",
   "execution_count": 13,
   "id": "422b40e4",
   "metadata": {},
   "outputs": [],
   "source": [
    "df.replace(to_replace=['PAYMENT','TRANSFER','CASH_OUT', 'DEBIT','CASH_IN'],value=[2,4,1,5,3],inplace=True)"
   ]
  },
  {
   "cell_type": "code",
   "execution_count": 14,
   "id": "4393071c",
   "metadata": {},
   "outputs": [
    {
     "data": {
      "text/html": [
       "<div>\n",
       "<style scoped>\n",
       "    .dataframe tbody tr th:only-of-type {\n",
       "        vertical-align: middle;\n",
       "    }\n",
       "\n",
       "    .dataframe tbody tr th {\n",
       "        vertical-align: top;\n",
       "    }\n",
       "\n",
       "    .dataframe thead th {\n",
       "        text-align: right;\n",
       "    }\n",
       "</style>\n",
       "<table border=\"1\" class=\"dataframe\">\n",
       "  <thead>\n",
       "    <tr style=\"text-align: right;\">\n",
       "      <th></th>\n",
       "      <th>step</th>\n",
       "      <th>type</th>\n",
       "      <th>amount</th>\n",
       "      <th>nameOrig</th>\n",
       "      <th>oldbalanceOrg</th>\n",
       "      <th>newbalanceOrig</th>\n",
       "      <th>nameDest</th>\n",
       "      <th>oldbalanceDest</th>\n",
       "      <th>newbalanceDest</th>\n",
       "      <th>isFraud</th>\n",
       "      <th>isFlaggedFraud</th>\n",
       "    </tr>\n",
       "  </thead>\n",
       "  <tbody>\n",
       "    <tr>\n",
       "      <th>0</th>\n",
       "      <td>1</td>\n",
       "      <td>2</td>\n",
       "      <td>9839.64</td>\n",
       "      <td>C1231006815</td>\n",
       "      <td>170136.00</td>\n",
       "      <td>160296.36</td>\n",
       "      <td>M1979787155</td>\n",
       "      <td>0.00</td>\n",
       "      <td>0.00</td>\n",
       "      <td>0</td>\n",
       "      <td>0</td>\n",
       "    </tr>\n",
       "    <tr>\n",
       "      <th>1</th>\n",
       "      <td>1</td>\n",
       "      <td>2</td>\n",
       "      <td>1864.28</td>\n",
       "      <td>C1666544295</td>\n",
       "      <td>21249.00</td>\n",
       "      <td>19384.72</td>\n",
       "      <td>M2044282225</td>\n",
       "      <td>0.00</td>\n",
       "      <td>0.00</td>\n",
       "      <td>0</td>\n",
       "      <td>0</td>\n",
       "    </tr>\n",
       "    <tr>\n",
       "      <th>2</th>\n",
       "      <td>1</td>\n",
       "      <td>4</td>\n",
       "      <td>181.00</td>\n",
       "      <td>C1305486145</td>\n",
       "      <td>181.00</td>\n",
       "      <td>0.00</td>\n",
       "      <td>C553264065</td>\n",
       "      <td>0.00</td>\n",
       "      <td>0.00</td>\n",
       "      <td>1</td>\n",
       "      <td>0</td>\n",
       "    </tr>\n",
       "    <tr>\n",
       "      <th>3</th>\n",
       "      <td>1</td>\n",
       "      <td>1</td>\n",
       "      <td>181.00</td>\n",
       "      <td>C840083671</td>\n",
       "      <td>181.00</td>\n",
       "      <td>0.00</td>\n",
       "      <td>C38997010</td>\n",
       "      <td>21182.00</td>\n",
       "      <td>0.00</td>\n",
       "      <td>1</td>\n",
       "      <td>0</td>\n",
       "    </tr>\n",
       "    <tr>\n",
       "      <th>4</th>\n",
       "      <td>1</td>\n",
       "      <td>2</td>\n",
       "      <td>11668.14</td>\n",
       "      <td>C2048537720</td>\n",
       "      <td>41554.00</td>\n",
       "      <td>29885.86</td>\n",
       "      <td>M1230701703</td>\n",
       "      <td>0.00</td>\n",
       "      <td>0.00</td>\n",
       "      <td>0</td>\n",
       "      <td>0</td>\n",
       "    </tr>\n",
       "    <tr>\n",
       "      <th>...</th>\n",
       "      <td>...</td>\n",
       "      <td>...</td>\n",
       "      <td>...</td>\n",
       "      <td>...</td>\n",
       "      <td>...</td>\n",
       "      <td>...</td>\n",
       "      <td>...</td>\n",
       "      <td>...</td>\n",
       "      <td>...</td>\n",
       "      <td>...</td>\n",
       "      <td>...</td>\n",
       "    </tr>\n",
       "    <tr>\n",
       "      <th>6362615</th>\n",
       "      <td>743</td>\n",
       "      <td>1</td>\n",
       "      <td>339682.13</td>\n",
       "      <td>C786484425</td>\n",
       "      <td>339682.13</td>\n",
       "      <td>0.00</td>\n",
       "      <td>C776919290</td>\n",
       "      <td>0.00</td>\n",
       "      <td>339682.13</td>\n",
       "      <td>1</td>\n",
       "      <td>0</td>\n",
       "    </tr>\n",
       "    <tr>\n",
       "      <th>6362616</th>\n",
       "      <td>743</td>\n",
       "      <td>4</td>\n",
       "      <td>6311409.28</td>\n",
       "      <td>C1529008245</td>\n",
       "      <td>6311409.28</td>\n",
       "      <td>0.00</td>\n",
       "      <td>C1881841831</td>\n",
       "      <td>0.00</td>\n",
       "      <td>0.00</td>\n",
       "      <td>1</td>\n",
       "      <td>0</td>\n",
       "    </tr>\n",
       "    <tr>\n",
       "      <th>6362617</th>\n",
       "      <td>743</td>\n",
       "      <td>1</td>\n",
       "      <td>6311409.28</td>\n",
       "      <td>C1162922333</td>\n",
       "      <td>6311409.28</td>\n",
       "      <td>0.00</td>\n",
       "      <td>C1365125890</td>\n",
       "      <td>68488.84</td>\n",
       "      <td>6379898.11</td>\n",
       "      <td>1</td>\n",
       "      <td>0</td>\n",
       "    </tr>\n",
       "    <tr>\n",
       "      <th>6362618</th>\n",
       "      <td>743</td>\n",
       "      <td>4</td>\n",
       "      <td>850002.52</td>\n",
       "      <td>C1685995037</td>\n",
       "      <td>850002.52</td>\n",
       "      <td>0.00</td>\n",
       "      <td>C2080388513</td>\n",
       "      <td>0.00</td>\n",
       "      <td>0.00</td>\n",
       "      <td>1</td>\n",
       "      <td>0</td>\n",
       "    </tr>\n",
       "    <tr>\n",
       "      <th>6362619</th>\n",
       "      <td>743</td>\n",
       "      <td>1</td>\n",
       "      <td>850002.52</td>\n",
       "      <td>C1280323807</td>\n",
       "      <td>850002.52</td>\n",
       "      <td>0.00</td>\n",
       "      <td>C873221189</td>\n",
       "      <td>6510099.11</td>\n",
       "      <td>7360101.63</td>\n",
       "      <td>1</td>\n",
       "      <td>0</td>\n",
       "    </tr>\n",
       "  </tbody>\n",
       "</table>\n",
       "<p>6362620 rows × 11 columns</p>\n",
       "</div>"
      ],
      "text/plain": [
       "         step  type      amount     nameOrig  oldbalanceOrg  newbalanceOrig  \\\n",
       "0           1     2     9839.64  C1231006815      170136.00       160296.36   \n",
       "1           1     2     1864.28  C1666544295       21249.00        19384.72   \n",
       "2           1     4      181.00  C1305486145         181.00            0.00   \n",
       "3           1     1      181.00   C840083671         181.00            0.00   \n",
       "4           1     2    11668.14  C2048537720       41554.00        29885.86   \n",
       "...       ...   ...         ...          ...            ...             ...   \n",
       "6362615   743     1   339682.13   C786484425      339682.13            0.00   \n",
       "6362616   743     4  6311409.28  C1529008245     6311409.28            0.00   \n",
       "6362617   743     1  6311409.28  C1162922333     6311409.28            0.00   \n",
       "6362618   743     4   850002.52  C1685995037      850002.52            0.00   \n",
       "6362619   743     1   850002.52  C1280323807      850002.52            0.00   \n",
       "\n",
       "            nameDest  oldbalanceDest  newbalanceDest  isFraud  isFlaggedFraud  \n",
       "0        M1979787155            0.00            0.00        0               0  \n",
       "1        M2044282225            0.00            0.00        0               0  \n",
       "2         C553264065            0.00            0.00        1               0  \n",
       "3          C38997010        21182.00            0.00        1               0  \n",
       "4        M1230701703            0.00            0.00        0               0  \n",
       "...              ...             ...             ...      ...             ...  \n",
       "6362615   C776919290            0.00       339682.13        1               0  \n",
       "6362616  C1881841831            0.00            0.00        1               0  \n",
       "6362617  C1365125890        68488.84      6379898.11        1               0  \n",
       "6362618  C2080388513            0.00            0.00        1               0  \n",
       "6362619   C873221189      6510099.11      7360101.63        1               0  \n",
       "\n",
       "[6362620 rows x 11 columns]"
      ]
     },
     "execution_count": 14,
     "metadata": {},
     "output_type": "execute_result"
    }
   ],
   "source": [
    "df"
   ]
  },
  {
   "cell_type": "markdown",
   "id": "821d71dd",
   "metadata": {},
   "source": [
    "# Description of target variabe before resampling"
   ]
  },
  {
   "cell_type": "code",
   "execution_count": 15,
   "id": "72d4c0e8",
   "metadata": {},
   "outputs": [
    {
     "data": {
      "text/plain": [
       "0    6354407\n",
       "1       8213\n",
       "Name: isFraud, dtype: int64"
      ]
     },
     "execution_count": 15,
     "metadata": {},
     "output_type": "execute_result"
    }
   ],
   "source": [
    "df.isFraud.value_counts()"
   ]
  },
  {
   "cell_type": "code",
   "execution_count": 16,
   "id": "53a6918d",
   "metadata": {},
   "outputs": [],
   "source": [
    "# You may need to adjust this mapping based on your actual data\n",
    "fraud_mapping = {0: 'No fraud', 1: 'Fraud'}\n",
    "\n",
    "# Apply the mapping to 'isFraud' column\n",
    "df['isFraud'] = df['isFraud'].map(fraud_mapping)\n"
   ]
  },
  {
   "cell_type": "code",
   "execution_count": 17,
   "id": "214bf714",
   "metadata": {},
   "outputs": [
    {
     "data": {
      "text/plain": [
       "No fraud    6354407\n",
       "Fraud          8213\n",
       "Name: isFraud, dtype: int64"
      ]
     },
     "execution_count": 17,
     "metadata": {},
     "output_type": "execute_result"
    }
   ],
   "source": [
    "df.isFraud.value_counts()"
   ]
  },
  {
   "cell_type": "code",
   "execution_count": 18,
   "id": "53538942",
   "metadata": {},
   "outputs": [
    {
     "data": {
      "text/plain": [
       "array(['No fraud', 'Fraud'], dtype=object)"
      ]
     },
     "execution_count": 18,
     "metadata": {},
     "output_type": "execute_result"
    }
   ],
   "source": [
    "df.isFraud.unique()"
   ]
  },
  {
   "cell_type": "code",
   "execution_count": 19,
   "id": "e856cc9c",
   "metadata": {},
   "outputs": [
    {
     "data": {
      "text/html": [
       "<div>\n",
       "<style scoped>\n",
       "    .dataframe tbody tr th:only-of-type {\n",
       "        vertical-align: middle;\n",
       "    }\n",
       "\n",
       "    .dataframe tbody tr th {\n",
       "        vertical-align: top;\n",
       "    }\n",
       "\n",
       "    .dataframe thead th {\n",
       "        text-align: right;\n",
       "    }\n",
       "</style>\n",
       "<table border=\"1\" class=\"dataframe\">\n",
       "  <thead>\n",
       "    <tr style=\"text-align: right;\">\n",
       "      <th></th>\n",
       "      <th>step</th>\n",
       "      <th>type</th>\n",
       "      <th>amount</th>\n",
       "      <th>oldbalanceOrg</th>\n",
       "      <th>newbalanceOrig</th>\n",
       "      <th>oldbalanceDest</th>\n",
       "      <th>newbalanceDest</th>\n",
       "      <th>isFlaggedFraud</th>\n",
       "    </tr>\n",
       "  </thead>\n",
       "  <tbody>\n",
       "    <tr>\n",
       "      <th>count</th>\n",
       "      <td>6362620.00</td>\n",
       "      <td>6362620.00</td>\n",
       "      <td>6362620.00</td>\n",
       "      <td>6362620.00</td>\n",
       "      <td>6362620.00</td>\n",
       "      <td>6.362620e+06</td>\n",
       "      <td>6.362620e+06</td>\n",
       "      <td>6362620.0</td>\n",
       "    </tr>\n",
       "    <tr>\n",
       "      <th>mean</th>\n",
       "      <td>243.40</td>\n",
       "      <td>2.06</td>\n",
       "      <td>179861.90</td>\n",
       "      <td>833883.10</td>\n",
       "      <td>855113.67</td>\n",
       "      <td>1.100702e+06</td>\n",
       "      <td>1.224996e+06</td>\n",
       "      <td>0.0</td>\n",
       "    </tr>\n",
       "    <tr>\n",
       "      <th>std</th>\n",
       "      <td>142.33</td>\n",
       "      <td>0.98</td>\n",
       "      <td>603858.23</td>\n",
       "      <td>2888242.67</td>\n",
       "      <td>2924048.50</td>\n",
       "      <td>3.399180e+06</td>\n",
       "      <td>3.674129e+06</td>\n",
       "      <td>0.0</td>\n",
       "    </tr>\n",
       "    <tr>\n",
       "      <th>min</th>\n",
       "      <td>1.00</td>\n",
       "      <td>1.00</td>\n",
       "      <td>0.00</td>\n",
       "      <td>0.00</td>\n",
       "      <td>0.00</td>\n",
       "      <td>0.000000e+00</td>\n",
       "      <td>0.000000e+00</td>\n",
       "      <td>0.0</td>\n",
       "    </tr>\n",
       "    <tr>\n",
       "      <th>25%</th>\n",
       "      <td>156.00</td>\n",
       "      <td>1.00</td>\n",
       "      <td>13389.57</td>\n",
       "      <td>0.00</td>\n",
       "      <td>0.00</td>\n",
       "      <td>0.000000e+00</td>\n",
       "      <td>0.000000e+00</td>\n",
       "      <td>0.0</td>\n",
       "    </tr>\n",
       "    <tr>\n",
       "      <th>50%</th>\n",
       "      <td>239.00</td>\n",
       "      <td>2.00</td>\n",
       "      <td>74871.94</td>\n",
       "      <td>14208.00</td>\n",
       "      <td>0.00</td>\n",
       "      <td>1.327057e+05</td>\n",
       "      <td>2.146614e+05</td>\n",
       "      <td>0.0</td>\n",
       "    </tr>\n",
       "    <tr>\n",
       "      <th>75%</th>\n",
       "      <td>335.00</td>\n",
       "      <td>3.00</td>\n",
       "      <td>208721.48</td>\n",
       "      <td>107315.18</td>\n",
       "      <td>144258.41</td>\n",
       "      <td>9.430367e+05</td>\n",
       "      <td>1.111909e+06</td>\n",
       "      <td>0.0</td>\n",
       "    </tr>\n",
       "    <tr>\n",
       "      <th>max</th>\n",
       "      <td>743.00</td>\n",
       "      <td>5.00</td>\n",
       "      <td>92445516.64</td>\n",
       "      <td>59585040.37</td>\n",
       "      <td>49585040.37</td>\n",
       "      <td>3.560159e+08</td>\n",
       "      <td>3.561793e+08</td>\n",
       "      <td>1.0</td>\n",
       "    </tr>\n",
       "  </tbody>\n",
       "</table>\n",
       "</div>"
      ],
      "text/plain": [
       "             step        type       amount  oldbalanceOrg  newbalanceOrig  \\\n",
       "count  6362620.00  6362620.00   6362620.00     6362620.00      6362620.00   \n",
       "mean       243.40        2.06    179861.90      833883.10       855113.67   \n",
       "std        142.33        0.98    603858.23     2888242.67      2924048.50   \n",
       "min          1.00        1.00         0.00           0.00            0.00   \n",
       "25%        156.00        1.00     13389.57           0.00            0.00   \n",
       "50%        239.00        2.00     74871.94       14208.00            0.00   \n",
       "75%        335.00        3.00    208721.48      107315.18       144258.41   \n",
       "max        743.00        5.00  92445516.64    59585040.37     49585040.37   \n",
       "\n",
       "       oldbalanceDest  newbalanceDest  isFlaggedFraud  \n",
       "count    6.362620e+06    6.362620e+06       6362620.0  \n",
       "mean     1.100702e+06    1.224996e+06             0.0  \n",
       "std      3.399180e+06    3.674129e+06             0.0  \n",
       "min      0.000000e+00    0.000000e+00             0.0  \n",
       "25%      0.000000e+00    0.000000e+00             0.0  \n",
       "50%      1.327057e+05    2.146614e+05             0.0  \n",
       "75%      9.430367e+05    1.111909e+06             0.0  \n",
       "max      3.560159e+08    3.561793e+08             1.0  "
      ]
     },
     "execution_count": 19,
     "metadata": {},
     "output_type": "execute_result"
    }
   ],
   "source": [
    "df.describe().round(2)"
   ]
  },
  {
   "cell_type": "markdown",
   "id": "1827b3b2",
   "metadata": {},
   "source": [
    "# Correlation Analysis"
   ]
  },
  {
   "cell_type": "code",
   "execution_count": 20,
   "id": "eb5955d6",
   "metadata": {
    "scrolled": true
   },
   "outputs": [
    {
     "name": "stderr",
     "output_type": "stream",
     "text": [
      "C:\\Users\\USER-PC\\AppData\\Local\\Temp\\ipykernel_6956\\1134722465.py:1: FutureWarning: The default value of numeric_only in DataFrame.corr is deprecated. In a future version, it will default to False. Select only valid columns or specify the value of numeric_only to silence this warning.\n",
      "  df.corr()\n"
     ]
    },
    {
     "data": {
      "text/html": [
       "<div>\n",
       "<style scoped>\n",
       "    .dataframe tbody tr th:only-of-type {\n",
       "        vertical-align: middle;\n",
       "    }\n",
       "\n",
       "    .dataframe tbody tr th {\n",
       "        vertical-align: top;\n",
       "    }\n",
       "\n",
       "    .dataframe thead th {\n",
       "        text-align: right;\n",
       "    }\n",
       "</style>\n",
       "<table border=\"1\" class=\"dataframe\">\n",
       "  <thead>\n",
       "    <tr style=\"text-align: right;\">\n",
       "      <th></th>\n",
       "      <th>step</th>\n",
       "      <th>type</th>\n",
       "      <th>amount</th>\n",
       "      <th>oldbalanceOrg</th>\n",
       "      <th>newbalanceOrig</th>\n",
       "      <th>oldbalanceDest</th>\n",
       "      <th>newbalanceDest</th>\n",
       "      <th>isFlaggedFraud</th>\n",
       "    </tr>\n",
       "  </thead>\n",
       "  <tbody>\n",
       "    <tr>\n",
       "      <th>step</th>\n",
       "      <td>1.000000</td>\n",
       "      <td>0.012627</td>\n",
       "      <td>0.022373</td>\n",
       "      <td>-0.010058</td>\n",
       "      <td>-0.010299</td>\n",
       "      <td>0.027665</td>\n",
       "      <td>0.025888</td>\n",
       "      <td>0.003277</td>\n",
       "    </tr>\n",
       "    <tr>\n",
       "      <th>type</th>\n",
       "      <td>0.012627</td>\n",
       "      <td>1.000000</td>\n",
       "      <td>0.198987</td>\n",
       "      <td>0.260418</td>\n",
       "      <td>0.270669</td>\n",
       "      <td>0.066255</td>\n",
       "      <td>0.079111</td>\n",
       "      <td>0.003144</td>\n",
       "    </tr>\n",
       "    <tr>\n",
       "      <th>amount</th>\n",
       "      <td>0.022373</td>\n",
       "      <td>0.198987</td>\n",
       "      <td>1.000000</td>\n",
       "      <td>-0.002762</td>\n",
       "      <td>-0.007861</td>\n",
       "      <td>0.294137</td>\n",
       "      <td>0.459304</td>\n",
       "      <td>0.012295</td>\n",
       "    </tr>\n",
       "    <tr>\n",
       "      <th>oldbalanceOrg</th>\n",
       "      <td>-0.010058</td>\n",
       "      <td>0.260418</td>\n",
       "      <td>-0.002762</td>\n",
       "      <td>1.000000</td>\n",
       "      <td>0.998803</td>\n",
       "      <td>0.066243</td>\n",
       "      <td>0.042029</td>\n",
       "      <td>0.003835</td>\n",
       "    </tr>\n",
       "    <tr>\n",
       "      <th>newbalanceOrig</th>\n",
       "      <td>-0.010299</td>\n",
       "      <td>0.270669</td>\n",
       "      <td>-0.007861</td>\n",
       "      <td>0.998803</td>\n",
       "      <td>1.000000</td>\n",
       "      <td>0.067812</td>\n",
       "      <td>0.041837</td>\n",
       "      <td>0.003776</td>\n",
       "    </tr>\n",
       "    <tr>\n",
       "      <th>oldbalanceDest</th>\n",
       "      <td>0.027665</td>\n",
       "      <td>0.066255</td>\n",
       "      <td>0.294137</td>\n",
       "      <td>0.066243</td>\n",
       "      <td>0.067812</td>\n",
       "      <td>1.000000</td>\n",
       "      <td>0.976569</td>\n",
       "      <td>-0.000513</td>\n",
       "    </tr>\n",
       "    <tr>\n",
       "      <th>newbalanceDest</th>\n",
       "      <td>0.025888</td>\n",
       "      <td>0.079111</td>\n",
       "      <td>0.459304</td>\n",
       "      <td>0.042029</td>\n",
       "      <td>0.041837</td>\n",
       "      <td>0.976569</td>\n",
       "      <td>1.000000</td>\n",
       "      <td>-0.000529</td>\n",
       "    </tr>\n",
       "    <tr>\n",
       "      <th>isFlaggedFraud</th>\n",
       "      <td>0.003277</td>\n",
       "      <td>0.003144</td>\n",
       "      <td>0.012295</td>\n",
       "      <td>0.003835</td>\n",
       "      <td>0.003776</td>\n",
       "      <td>-0.000513</td>\n",
       "      <td>-0.000529</td>\n",
       "      <td>1.000000</td>\n",
       "    </tr>\n",
       "  </tbody>\n",
       "</table>\n",
       "</div>"
      ],
      "text/plain": [
       "                    step      type    amount  oldbalanceOrg  newbalanceOrig  \\\n",
       "step            1.000000  0.012627  0.022373      -0.010058       -0.010299   \n",
       "type            0.012627  1.000000  0.198987       0.260418        0.270669   \n",
       "amount          0.022373  0.198987  1.000000      -0.002762       -0.007861   \n",
       "oldbalanceOrg  -0.010058  0.260418 -0.002762       1.000000        0.998803   \n",
       "newbalanceOrig -0.010299  0.270669 -0.007861       0.998803        1.000000   \n",
       "oldbalanceDest  0.027665  0.066255  0.294137       0.066243        0.067812   \n",
       "newbalanceDest  0.025888  0.079111  0.459304       0.042029        0.041837   \n",
       "isFlaggedFraud  0.003277  0.003144  0.012295       0.003835        0.003776   \n",
       "\n",
       "                oldbalanceDest  newbalanceDest  isFlaggedFraud  \n",
       "step                  0.027665        0.025888        0.003277  \n",
       "type                  0.066255        0.079111        0.003144  \n",
       "amount                0.294137        0.459304        0.012295  \n",
       "oldbalanceOrg         0.066243        0.042029        0.003835  \n",
       "newbalanceOrig        0.067812        0.041837        0.003776  \n",
       "oldbalanceDest        1.000000        0.976569       -0.000513  \n",
       "newbalanceDest        0.976569        1.000000       -0.000529  \n",
       "isFlaggedFraud       -0.000513       -0.000529        1.000000  "
      ]
     },
     "execution_count": 20,
     "metadata": {},
     "output_type": "execute_result"
    }
   ],
   "source": [
    "df.corr()"
   ]
  },
  {
   "cell_type": "code",
   "execution_count": 21,
   "id": "e4db3455",
   "metadata": {
    "scrolled": true
   },
   "outputs": [
    {
     "name": "stderr",
     "output_type": "stream",
     "text": [
      "C:\\Users\\USER-PC\\AppData\\Local\\Temp\\ipykernel_6956\\2917969794.py:1: FutureWarning: The default value of numeric_only in DataFrame.corr is deprecated. In a future version, it will default to False. Select only valid columns or specify the value of numeric_only to silence this warning.\n",
      "  sns.heatmap(df.corr().round(3), annot= True, cmap='coolwarm')\n"
     ]
    },
    {
     "data": {
      "text/plain": [
       "<Axes: >"
      ]
     },
     "execution_count": 21,
     "metadata": {},
     "output_type": "execute_result"
    },
    {
     "data": {
      "image/png": "[encoded data removed]",
      "text/plain": [
       "<Figure size 640x480 with 2 Axes>"
      ]
     },
     "metadata": {},
     "output_type": "display_data"
    }
   ],
   "source": [
    "sns.heatmap(df.corr().round(3), annot= True, cmap='coolwarm')"
   ]
  },
  {
   "cell_type": "markdown",
   "id": "b40696b0",
   "metadata": {},
   "source": [
    "From the result of corrlation analysis, it was discovered that all the variables involved in this analysis possess some level of correlation or relationship with fraud possibility(positive or negative); amount, oldbalanceorig, newbalancedest had a positive correlation with fraud possibility while newbalanceorig, oldbalancedest has a negative correlation with fraud possibility."
   ]
  },
  {
   "cell_type": "markdown",
   "id": "ccc24228",
   "metadata": {},
   "source": [
    "## Handling the imbalance in the dataset, to generate a balanced dataset"
   ]
  },
  {
   "cell_type": "code",
   "execution_count": 22,
   "id": "e476b12a",
   "metadata": {},
   "outputs": [
    {
     "name": "stdout",
     "output_type": "stream",
     "text": [
      "Original Class Distribution:\n",
      "No fraud    6354407\n",
      "Fraud          8213\n",
      "Name: isFraud, dtype: int64\n",
      "Before Resampling:\n",
      "Fraud cases: 8213\n",
      "Non-fraud cases: 6354407\n",
      "After Resampling:\n",
      "Fraud cases: 8213\n",
      "Non-fraud cases: 8213\n",
      "   step  type      amount     nameOrig  oldbalanceOrg  newbalanceOrig  \\\n",
      "0   397     3    76550.74   C658247527     1096252.93      1172803.66   \n",
      "1   251     2    12617.11  C1812418129      339181.87       326564.76   \n",
      "2    98     1     8055.06  C1544350298        8055.06            0.00   \n",
      "3   550     4   342309.91   C662184778      342309.91            0.00   \n",
      "4   586     1  2581549.92   C648614053     2581549.92            0.00   \n",
      "\n",
      "      nameDest  oldbalanceDest  newbalanceDest   isFraud  isFlaggedFraud  \n",
      "0   C492670573      2208784.02      2132233.28  No fraud               0  \n",
      "1  M1924423059            0.00            0.00  No fraud               0  \n",
      "2   C912405348            0.00         8055.06     Fraud               0  \n",
      "3  C1740503020            0.00            0.00     Fraud               0  \n",
      "4   C213455810            0.00      2581549.92     Fraud               0  \n"
     ]
    }
   ],
   "source": [
    "import pandas as pd\n",
    "\n",
    "# Assuming your dataset is stored in a DataFrame df\n",
    "# X is your feature matrix, and y is your target variable\n",
    "\n",
    "# Print the counts of fraud and non-fraud cases in the original dataset\n",
    "print(\"Original Class Distribution:\")\n",
    "print(df['isFraud'].value_counts())\n",
    "\n",
    "# Separate fraud and non-fraud cases\n",
    "fraud_cases = df[df['isFraud'] == 'Fraud']\n",
    "non_fraud_cases = df[df['isFraud'] == 'No fraud']\n",
    "\n",
    "# Print the counts of fraud and non-fraud cases before resampling\n",
    "print(\"Before Resampling:\")\n",
    "print(\"Fraud cases:\", len(fraud_cases))\n",
    "print(\"Non-fraud cases:\", len(non_fraud_cases))\n",
    "\n",
    "# Randomly sample non-fraud cases to balance the dataset\n",
    "non_fraud_sampled = non_fraud_cases.sample(n=len(fraud_cases), random_state=42)\n",
    "\n",
    "# Combine the sampled non-fraud cases with fraud cases to create the balanced dataset\n",
    "balanced_df = pd.concat([fraud_cases, non_fraud_sampled])\n",
    "\n",
    "# Shuffle the entire dataset to mix the order of samples\n",
    "balanced_df = balanced_df.sample(frac=1, random_state=42).reset_index(drop=True)\n",
    "\n",
    "# Print the counts of fraud and non-fraud cases after resampling\n",
    "print(\"After Resampling:\")\n",
    "print(\"Fraud cases:\", len(balanced_df[balanced_df['isFraud'] == 'Fraud']))\n",
    "print(\"Non-fraud cases:\", len(balanced_df[balanced_df['isFraud'] == 'No fraud']))\n",
    "\n",
    "# Print the first few entries in the DataFrame to check\n",
    "print(balanced_df.head())\n",
    "\n",
    "# Overwrite the entire dataset with the balanced values\n",
    "df_resampled = balanced_df.copy()\n",
    "\n",
    "# Now, df contains the entire dataset with the resampled 'isFraud' values\n"
   ]
  },
  {
   "cell_type": "markdown",
   "id": "fc9dc113",
   "metadata": {},
   "source": [
    "# Description of target variable After Resampling"
   ]
  },
  {
   "cell_type": "code",
   "execution_count": 23,
   "id": "7dd80024",
   "metadata": {},
   "outputs": [
    {
     "data": {
      "text/plain": [
       "No fraud    8213\n",
       "Fraud       8213\n",
       "Name: isFraud, dtype: int64"
      ]
     },
     "execution_count": 23,
     "metadata": {},
     "output_type": "execute_result"
    }
   ],
   "source": [
    "df_resampled.isFraud.value_counts()"
   ]
  },
  {
   "cell_type": "code",
   "execution_count": 24,
   "id": "a0684ba3",
   "metadata": {},
   "outputs": [
    {
     "data": {
      "text/plain": [
       "0"
      ]
     },
     "execution_count": 24,
     "metadata": {},
     "output_type": "execute_result"
    }
   ],
   "source": [
    "df_resampled.isFraud.isna().sum()"
   ]
  },
  {
   "cell_type": "code",
   "execution_count": 25,
   "id": "bb0eeb06",
   "metadata": {
    "scrolled": false
   },
   "outputs": [
    {
     "data": {
      "text/html": [
       "<div>\n",
       "<style scoped>\n",
       "    .dataframe tbody tr th:only-of-type {\n",
       "        vertical-align: middle;\n",
       "    }\n",
       "\n",
       "    .dataframe tbody tr th {\n",
       "        vertical-align: top;\n",
       "    }\n",
       "\n",
       "    .dataframe thead th {\n",
       "        text-align: right;\n",
       "    }\n",
       "</style>\n",
       "<table border=\"1\" class=\"dataframe\">\n",
       "  <thead>\n",
       "    <tr style=\"text-align: right;\">\n",
       "      <th></th>\n",
       "      <th>step</th>\n",
       "      <th>type</th>\n",
       "      <th>amount</th>\n",
       "      <th>oldbalanceOrg</th>\n",
       "      <th>newbalanceOrig</th>\n",
       "      <th>oldbalanceDest</th>\n",
       "      <th>newbalanceDest</th>\n",
       "      <th>isFlaggedFraud</th>\n",
       "    </tr>\n",
       "  </thead>\n",
       "  <tbody>\n",
       "    <tr>\n",
       "      <th>count</th>\n",
       "      <td>6362620.0</td>\n",
       "      <td>6362620.0</td>\n",
       "      <td>6362620.0</td>\n",
       "      <td>6362620.0</td>\n",
       "      <td>6362620.0</td>\n",
       "      <td>6362620.0</td>\n",
       "      <td>6362620.0</td>\n",
       "      <td>6362620.0</td>\n",
       "    </tr>\n",
       "    <tr>\n",
       "      <th>mean</th>\n",
       "      <td>243.0</td>\n",
       "      <td>2.0</td>\n",
       "      <td>179862.0</td>\n",
       "      <td>833883.0</td>\n",
       "      <td>855114.0</td>\n",
       "      <td>1100702.0</td>\n",
       "      <td>1224996.0</td>\n",
       "      <td>0.0</td>\n",
       "    </tr>\n",
       "    <tr>\n",
       "      <th>std</th>\n",
       "      <td>142.0</td>\n",
       "      <td>1.0</td>\n",
       "      <td>603858.0</td>\n",
       "      <td>2888243.0</td>\n",
       "      <td>2924049.0</td>\n",
       "      <td>3399180.0</td>\n",
       "      <td>3674129.0</td>\n",
       "      <td>0.0</td>\n",
       "    </tr>\n",
       "    <tr>\n",
       "      <th>min</th>\n",
       "      <td>1.0</td>\n",
       "      <td>1.0</td>\n",
       "      <td>0.0</td>\n",
       "      <td>0.0</td>\n",
       "      <td>0.0</td>\n",
       "      <td>0.0</td>\n",
       "      <td>0.0</td>\n",
       "      <td>0.0</td>\n",
       "    </tr>\n",
       "    <tr>\n",
       "      <th>25%</th>\n",
       "      <td>156.0</td>\n",
       "      <td>1.0</td>\n",
       "      <td>13390.0</td>\n",
       "      <td>0.0</td>\n",
       "      <td>0.0</td>\n",
       "      <td>0.0</td>\n",
       "      <td>0.0</td>\n",
       "      <td>0.0</td>\n",
       "    </tr>\n",
       "    <tr>\n",
       "      <th>50%</th>\n",
       "      <td>239.0</td>\n",
       "      <td>2.0</td>\n",
       "      <td>74872.0</td>\n",
       "      <td>14208.0</td>\n",
       "      <td>0.0</td>\n",
       "      <td>132706.0</td>\n",
       "      <td>214661.0</td>\n",
       "      <td>0.0</td>\n",
       "    </tr>\n",
       "    <tr>\n",
       "      <th>75%</th>\n",
       "      <td>335.0</td>\n",
       "      <td>3.0</td>\n",
       "      <td>208721.0</td>\n",
       "      <td>107315.0</td>\n",
       "      <td>144258.0</td>\n",
       "      <td>943037.0</td>\n",
       "      <td>1111909.0</td>\n",
       "      <td>0.0</td>\n",
       "    </tr>\n",
       "    <tr>\n",
       "      <th>max</th>\n",
       "      <td>743.0</td>\n",
       "      <td>5.0</td>\n",
       "      <td>92445517.0</td>\n",
       "      <td>59585040.0</td>\n",
       "      <td>49585040.0</td>\n",
       "      <td>356015889.0</td>\n",
       "      <td>356179279.0</td>\n",
       "      <td>1.0</td>\n",
       "    </tr>\n",
       "  </tbody>\n",
       "</table>\n",
       "</div>"
      ],
      "text/plain": [
       "            step       type      amount  oldbalanceOrg  newbalanceOrig  \\\n",
       "count  6362620.0  6362620.0   6362620.0      6362620.0       6362620.0   \n",
       "mean       243.0        2.0    179862.0       833883.0        855114.0   \n",
       "std        142.0        1.0    603858.0      2888243.0       2924049.0   \n",
       "min          1.0        1.0         0.0            0.0             0.0   \n",
       "25%        156.0        1.0     13390.0            0.0             0.0   \n",
       "50%        239.0        2.0     74872.0        14208.0             0.0   \n",
       "75%        335.0        3.0    208721.0       107315.0        144258.0   \n",
       "max        743.0        5.0  92445517.0     59585040.0      49585040.0   \n",
       "\n",
       "       oldbalanceDest  newbalanceDest  isFlaggedFraud  \n",
       "count       6362620.0       6362620.0       6362620.0  \n",
       "mean        1100702.0       1224996.0             0.0  \n",
       "std         3399180.0       3674129.0             0.0  \n",
       "min               0.0             0.0             0.0  \n",
       "25%               0.0             0.0             0.0  \n",
       "50%          132706.0        214661.0             0.0  \n",
       "75%          943037.0       1111909.0             0.0  \n",
       "max       356015889.0     356179279.0             1.0  "
      ]
     },
     "execution_count": 25,
     "metadata": {},
     "output_type": "execute_result"
    }
   ],
   "source": [
    "df.describe().round()"
   ]
  },
  {
   "cell_type": "markdown",
   "id": "81035533",
   "metadata": {},
   "source": [
    "# Machine Learning Tasks"
   ]
  },
  {
   "cell_type": "code",
   "execution_count": 27,
   "id": "55703f95",
   "metadata": {},
   "outputs": [],
   "source": [
    "from sklearn.model_selection import train_test_split\n",
    "from sklearn.svm import SVC\n",
    "from sklearn.ensemble import RandomForestClassifier\n",
    "from sklearn.metrics import classification_report, confusion_matrix, accuracy_score\n",
    "from sklearn.naive_bayes import GaussianNB\n",
    "from xgboost import XGBClassifier\n",
    "from sklearn.svm import SVC\n",
    "from sklearn.model_selection import train_test_split"
   ]
  },
  {
   "cell_type": "markdown",
   "id": "e7c28386",
   "metadata": {},
   "source": [
    "# Training on Raw data"
   ]
  },
  {
   "cell_type": "code",
   "execution_count": 29,
   "id": "49e22f0f",
   "metadata": {
    "scrolled": true
   },
   "outputs": [],
   "source": [
    "X=df_resampled[['type','amount','oldbalanceOrg','newbalanceOrig','oldbalanceDest','newbalanceDest','isFlaggedFraud']]\n",
    "Y=df_resampled.isFraud"
   ]
  },
  {
   "cell_type": "code",
   "execution_count": 30,
   "id": "cde2049e",
   "metadata": {
    "scrolled": true
   },
   "outputs": [
    {
     "data": {
      "text/html": [
       "<div>\n",
       "<style scoped>\n",
       "    .dataframe tbody tr th:only-of-type {\n",
       "        vertical-align: middle;\n",
       "    }\n",
       "\n",
       "    .dataframe tbody tr th {\n",
       "        vertical-align: top;\n",
       "    }\n",
       "\n",
       "    .dataframe thead th {\n",
       "        text-align: right;\n",
       "    }\n",
       "</style>\n",
       "<table border=\"1\" class=\"dataframe\">\n",
       "  <thead>\n",
       "    <tr style=\"text-align: right;\">\n",
       "      <th></th>\n",
       "      <th>type</th>\n",
       "      <th>amount</th>\n",
       "      <th>oldbalanceOrg</th>\n",
       "      <th>newbalanceOrig</th>\n",
       "      <th>oldbalanceDest</th>\n",
       "      <th>newbalanceDest</th>\n",
       "      <th>isFlaggedFraud</th>\n",
       "    </tr>\n",
       "  </thead>\n",
       "  <tbody>\n",
       "    <tr>\n",
       "      <th>0</th>\n",
       "      <td>3</td>\n",
       "      <td>76550.74</td>\n",
       "      <td>1096252.93</td>\n",
       "      <td>1172803.66</td>\n",
       "      <td>2208784.02</td>\n",
       "      <td>2132233.28</td>\n",
       "      <td>0</td>\n",
       "    </tr>\n",
       "    <tr>\n",
       "      <th>1</th>\n",
       "      <td>2</td>\n",
       "      <td>12617.11</td>\n",
       "      <td>339181.87</td>\n",
       "      <td>326564.76</td>\n",
       "      <td>0.00</td>\n",
       "      <td>0.00</td>\n",
       "      <td>0</td>\n",
       "    </tr>\n",
       "    <tr>\n",
       "      <th>2</th>\n",
       "      <td>1</td>\n",
       "      <td>8055.06</td>\n",
       "      <td>8055.06</td>\n",
       "      <td>0.00</td>\n",
       "      <td>0.00</td>\n",
       "      <td>8055.06</td>\n",
       "      <td>0</td>\n",
       "    </tr>\n",
       "    <tr>\n",
       "      <th>3</th>\n",
       "      <td>4</td>\n",
       "      <td>342309.91</td>\n",
       "      <td>342309.91</td>\n",
       "      <td>0.00</td>\n",
       "      <td>0.00</td>\n",
       "      <td>0.00</td>\n",
       "      <td>0</td>\n",
       "    </tr>\n",
       "    <tr>\n",
       "      <th>4</th>\n",
       "      <td>1</td>\n",
       "      <td>2581549.92</td>\n",
       "      <td>2581549.92</td>\n",
       "      <td>0.00</td>\n",
       "      <td>0.00</td>\n",
       "      <td>2581549.92</td>\n",
       "      <td>0</td>\n",
       "    </tr>\n",
       "    <tr>\n",
       "      <th>...</th>\n",
       "      <td>...</td>\n",
       "      <td>...</td>\n",
       "      <td>...</td>\n",
       "      <td>...</td>\n",
       "      <td>...</td>\n",
       "      <td>...</td>\n",
       "      <td>...</td>\n",
       "    </tr>\n",
       "    <tr>\n",
       "      <th>16421</th>\n",
       "      <td>1</td>\n",
       "      <td>542461.74</td>\n",
       "      <td>0.00</td>\n",
       "      <td>0.00</td>\n",
       "      <td>1757516.20</td>\n",
       "      <td>2299977.94</td>\n",
       "      <td>0</td>\n",
       "    </tr>\n",
       "    <tr>\n",
       "      <th>16422</th>\n",
       "      <td>3</td>\n",
       "      <td>2032.93</td>\n",
       "      <td>7625673.00</td>\n",
       "      <td>7627705.93</td>\n",
       "      <td>323961.50</td>\n",
       "      <td>321928.56</td>\n",
       "      <td>0</td>\n",
       "    </tr>\n",
       "    <tr>\n",
       "      <th>16423</th>\n",
       "      <td>1</td>\n",
       "      <td>156220.74</td>\n",
       "      <td>156220.74</td>\n",
       "      <td>0.00</td>\n",
       "      <td>0.00</td>\n",
       "      <td>156220.74</td>\n",
       "      <td>0</td>\n",
       "    </tr>\n",
       "    <tr>\n",
       "      <th>16424</th>\n",
       "      <td>4</td>\n",
       "      <td>1871553.73</td>\n",
       "      <td>1871553.73</td>\n",
       "      <td>0.00</td>\n",
       "      <td>0.00</td>\n",
       "      <td>0.00</td>\n",
       "      <td>0</td>\n",
       "    </tr>\n",
       "    <tr>\n",
       "      <th>16425</th>\n",
       "      <td>3</td>\n",
       "      <td>98932.38</td>\n",
       "      <td>1609496.52</td>\n",
       "      <td>1708428.90</td>\n",
       "      <td>3484293.51</td>\n",
       "      <td>3385361.13</td>\n",
       "      <td>0</td>\n",
       "    </tr>\n",
       "  </tbody>\n",
       "</table>\n",
       "<p>16426 rows × 7 columns</p>\n",
       "</div>"
      ],
      "text/plain": [
       "       type      amount  oldbalanceOrg  newbalanceOrig  oldbalanceDest  \\\n",
       "0         3    76550.74     1096252.93      1172803.66      2208784.02   \n",
       "1         2    12617.11      339181.87       326564.76            0.00   \n",
       "2         1     8055.06        8055.06            0.00            0.00   \n",
       "3         4   342309.91      342309.91            0.00            0.00   \n",
       "4         1  2581549.92     2581549.92            0.00            0.00   \n",
       "...     ...         ...            ...             ...             ...   \n",
       "16421     1   542461.74           0.00            0.00      1757516.20   \n",
       "16422     3     2032.93     7625673.00      7627705.93       323961.50   \n",
       "16423     1   156220.74      156220.74            0.00            0.00   \n",
       "16424     4  1871553.73     1871553.73            0.00            0.00   \n",
       "16425     3    98932.38     1609496.52      1708428.90      3484293.51   \n",
       "\n",
       "       newbalanceDest  isFlaggedFraud  \n",
       "0          2132233.28               0  \n",
       "1                0.00               0  \n",
       "2             8055.06               0  \n",
       "3                0.00               0  \n",
       "4          2581549.92               0  \n",
       "...               ...             ...  \n",
       "16421      2299977.94               0  \n",
       "16422       321928.56               0  \n",
       "16423       156220.74               0  \n",
       "16424            0.00               0  \n",
       "16425      3385361.13               0  \n",
       "\n",
       "[16426 rows x 7 columns]"
      ]
     },
     "execution_count": 30,
     "metadata": {},
     "output_type": "execute_result"
    }
   ],
   "source": [
    "X"
   ]
  },
  {
   "cell_type": "code",
   "execution_count": 31,
   "id": "c2c4ef7b",
   "metadata": {
    "scrolled": false
   },
   "outputs": [
    {
     "data": {
      "text/plain": [
       "0        No fraud\n",
       "1        No fraud\n",
       "2           Fraud\n",
       "3           Fraud\n",
       "4           Fraud\n",
       "           ...   \n",
       "16421    No fraud\n",
       "16422    No fraud\n",
       "16423       Fraud\n",
       "16424       Fraud\n",
       "16425    No fraud\n",
       "Name: isFraud, Length: 16426, dtype: object"
      ]
     },
     "execution_count": 31,
     "metadata": {},
     "output_type": "execute_result"
    }
   ],
   "source": [
    "Y"
   ]
  },
  {
   "cell_type": "code",
   "execution_count": 32,
   "id": "09de77aa",
   "metadata": {},
   "outputs": [],
   "source": [
    "X_train, X_test, Y_train, Y_test = train_test_split(X, Y, test_size=0.3, random_state=42)"
   ]
  },
  {
   "cell_type": "code",
   "execution_count": 147,
   "id": "5e22e8d4",
   "metadata": {},
   "outputs": [],
   "source": [
    "from sklearn.metrics import classification_report, confusion_matrix, accuracy_score"
   ]
  },
  {
   "cell_type": "markdown",
   "id": "2b3263b8",
   "metadata": {},
   "source": [
    "## GaussianNB model on Raw data"
   ]
  },
  {
   "cell_type": "code",
   "execution_count": 33,
   "id": "f775410d",
   "metadata": {},
   "outputs": [],
   "source": [
    "Raw_model=GaussianNB().fit(X_train,Y_train)"
   ]
  },
  {
   "cell_type": "code",
   "execution_count": 34,
   "id": "e0b3d1b7",
   "metadata": {},
   "outputs": [],
   "source": [
    "train_ypred_raw=Raw_model.predict(X_train)"
   ]
  },
  {
   "cell_type": "code",
   "execution_count": 35,
   "id": "597d3c37",
   "metadata": {},
   "outputs": [],
   "source": [
    "y_pred_raw = Raw_model.predict(X_test)"
   ]
  },
  {
   "cell_type": "markdown",
   "id": "75b06b3d",
   "metadata": {},
   "source": [
    "# Perfomance of model  on Training Dataset"
   ]
  },
  {
   "cell_type": "code",
   "execution_count": 36,
   "id": "53a54544",
   "metadata": {},
   "outputs": [
    {
     "name": "stdout",
     "output_type": "stream",
     "text": [
      "0.6568968516263698\n",
      "              precision    recall  f1-score   support\n",
      "\n",
      "       Fraud       0.94      0.33      0.49      5729\n",
      "    No fraud       0.60      0.98      0.74      5769\n",
      "\n",
      "    accuracy                           0.66     11498\n",
      "   macro avg       0.77      0.66      0.62     11498\n",
      "weighted avg       0.77      0.66      0.62     11498\n",
      "\n",
      "[[1905 3824]\n",
      " [ 121 5648]]\n"
     ]
    }
   ],
   "source": [
    "print(accuracy_score(Y_train,train_ypred_raw))\n",
    "print(classification_report(Y_train,train_ypred_raw))\n",
    "print(confusion_matrix(Y_train,train_ypred_raw))"
   ]
  },
  {
   "cell_type": "markdown",
   "id": "0314b298",
   "metadata": {},
   "source": [
    "# Performance of model on Test Dataset"
   ]
  },
  {
   "cell_type": "code",
   "execution_count": 37,
   "id": "4331c00a",
   "metadata": {
    "scrolled": false
   },
   "outputs": [
    {
     "name": "stdout",
     "output_type": "stream",
     "text": [
      "0.648336038961039\n",
      "              precision    recall  f1-score   support\n",
      "\n",
      "       Fraud       0.96      0.32      0.48      2484\n",
      "    No fraud       0.59      0.99      0.74      2444\n",
      "\n",
      "    accuracy                           0.65      4928\n",
      "   macro avg       0.77      0.65      0.61      4928\n",
      "weighted avg       0.77      0.65      0.60      4928\n",
      "\n",
      "[[ 786 1698]\n",
      " [  35 2409]]\n"
     ]
    }
   ],
   "source": [
    "print(accuracy_score(Y_test,y_pred_raw))\n",
    "print(classification_report(Y_test,y_pred_raw))\n",
    "print(confusion_matrix(Y_test,y_pred_raw))"
   ]
  },
  {
   "cell_type": "markdown",
   "id": "f8f990f0",
   "metadata": {},
   "source": [
    "# FEATURE ENGINEERING"
   ]
  },
  {
   "cell_type": "code",
   "execution_count": 38,
   "id": "9500b659",
   "metadata": {
    "scrolled": false
   },
   "outputs": [],
   "source": [
    "df_resampled['amount_relative_to_balance_orig'] = df_resampled['amount'] / (df_resampled['oldbalanceOrg'] + 0.1)\n",
    "df_resampled['newbalanceDest_rank'] = df_resampled.groupby('nameDest')['newbalanceDest'].rank() \n",
    "df_resampled['average_transaction_amount_dest']= df_resampled.groupby('nameDest')['amount'].transform('mean')"
   ]
  },
  {
   "cell_type": "code",
   "execution_count": 39,
   "id": "362d0589",
   "metadata": {
    "scrolled": true
   },
   "outputs": [
    {
     "data": {
      "text/html": [
       "<div>\n",
       "<style scoped>\n",
       "    .dataframe tbody tr th:only-of-type {\n",
       "        vertical-align: middle;\n",
       "    }\n",
       "\n",
       "    .dataframe tbody tr th {\n",
       "        vertical-align: top;\n",
       "    }\n",
       "\n",
       "    .dataframe thead th {\n",
       "        text-align: right;\n",
       "    }\n",
       "</style>\n",
       "<table border=\"1\" class=\"dataframe\">\n",
       "  <thead>\n",
       "    <tr style=\"text-align: right;\">\n",
       "      <th></th>\n",
       "      <th>step</th>\n",
       "      <th>type</th>\n",
       "      <th>amount</th>\n",
       "      <th>nameOrig</th>\n",
       "      <th>oldbalanceOrg</th>\n",
       "      <th>newbalanceOrig</th>\n",
       "      <th>nameDest</th>\n",
       "      <th>oldbalanceDest</th>\n",
       "      <th>newbalanceDest</th>\n",
       "      <th>isFraud</th>\n",
       "      <th>isFlaggedFraud</th>\n",
       "      <th>amount_relative_to_balance_orig</th>\n",
       "      <th>newbalanceDest_rank</th>\n",
       "      <th>average_transaction_amount_dest</th>\n",
       "    </tr>\n",
       "  </thead>\n",
       "  <tbody>\n",
       "    <tr>\n",
       "      <th>0</th>\n",
       "      <td>397</td>\n",
       "      <td>3</td>\n",
       "      <td>76550.74</td>\n",
       "      <td>C658247527</td>\n",
       "      <td>1096252.93</td>\n",
       "      <td>1172803.66</td>\n",
       "      <td>C492670573</td>\n",
       "      <td>2208784.02</td>\n",
       "      <td>2132233.28</td>\n",
       "      <td>No fraud</td>\n",
       "      <td>0</td>\n",
       "      <td>6.982944e-02</td>\n",
       "      <td>1.0</td>\n",
       "      <td>76550.74</td>\n",
       "    </tr>\n",
       "    <tr>\n",
       "      <th>1</th>\n",
       "      <td>251</td>\n",
       "      <td>2</td>\n",
       "      <td>12617.11</td>\n",
       "      <td>C1812418129</td>\n",
       "      <td>339181.87</td>\n",
       "      <td>326564.76</td>\n",
       "      <td>M1924423059</td>\n",
       "      <td>0.00</td>\n",
       "      <td>0.00</td>\n",
       "      <td>No fraud</td>\n",
       "      <td>0</td>\n",
       "      <td>3.719865e-02</td>\n",
       "      <td>1.0</td>\n",
       "      <td>12617.11</td>\n",
       "    </tr>\n",
       "    <tr>\n",
       "      <th>2</th>\n",
       "      <td>98</td>\n",
       "      <td>1</td>\n",
       "      <td>8055.06</td>\n",
       "      <td>C1544350298</td>\n",
       "      <td>8055.06</td>\n",
       "      <td>0.00</td>\n",
       "      <td>C912405348</td>\n",
       "      <td>0.00</td>\n",
       "      <td>8055.06</td>\n",
       "      <td>Fraud</td>\n",
       "      <td>0</td>\n",
       "      <td>9.999876e-01</td>\n",
       "      <td>1.0</td>\n",
       "      <td>8055.06</td>\n",
       "    </tr>\n",
       "    <tr>\n",
       "      <th>3</th>\n",
       "      <td>550</td>\n",
       "      <td>4</td>\n",
       "      <td>342309.91</td>\n",
       "      <td>C662184778</td>\n",
       "      <td>342309.91</td>\n",
       "      <td>0.00</td>\n",
       "      <td>C1740503020</td>\n",
       "      <td>0.00</td>\n",
       "      <td>0.00</td>\n",
       "      <td>Fraud</td>\n",
       "      <td>0</td>\n",
       "      <td>9.999997e-01</td>\n",
       "      <td>1.0</td>\n",
       "      <td>342309.91</td>\n",
       "    </tr>\n",
       "    <tr>\n",
       "      <th>4</th>\n",
       "      <td>586</td>\n",
       "      <td>1</td>\n",
       "      <td>2581549.92</td>\n",
       "      <td>C648614053</td>\n",
       "      <td>2581549.92</td>\n",
       "      <td>0.00</td>\n",
       "      <td>C213455810</td>\n",
       "      <td>0.00</td>\n",
       "      <td>2581549.92</td>\n",
       "      <td>Fraud</td>\n",
       "      <td>0</td>\n",
       "      <td>1.000000e+00</td>\n",
       "      <td>1.0</td>\n",
       "      <td>2581549.92</td>\n",
       "    </tr>\n",
       "    <tr>\n",
       "      <th>...</th>\n",
       "      <td>...</td>\n",
       "      <td>...</td>\n",
       "      <td>...</td>\n",
       "      <td>...</td>\n",
       "      <td>...</td>\n",
       "      <td>...</td>\n",
       "      <td>...</td>\n",
       "      <td>...</td>\n",
       "      <td>...</td>\n",
       "      <td>...</td>\n",
       "      <td>...</td>\n",
       "      <td>...</td>\n",
       "      <td>...</td>\n",
       "      <td>...</td>\n",
       "    </tr>\n",
       "    <tr>\n",
       "      <th>16421</th>\n",
       "      <td>382</td>\n",
       "      <td>1</td>\n",
       "      <td>542461.74</td>\n",
       "      <td>C664480557</td>\n",
       "      <td>0.00</td>\n",
       "      <td>0.00</td>\n",
       "      <td>C1725191429</td>\n",
       "      <td>1757516.20</td>\n",
       "      <td>2299977.94</td>\n",
       "      <td>No fraud</td>\n",
       "      <td>0</td>\n",
       "      <td>5.424617e+06</td>\n",
       "      <td>1.0</td>\n",
       "      <td>542461.74</td>\n",
       "    </tr>\n",
       "    <tr>\n",
       "      <th>16422</th>\n",
       "      <td>40</td>\n",
       "      <td>3</td>\n",
       "      <td>2032.93</td>\n",
       "      <td>C1544432489</td>\n",
       "      <td>7625673.00</td>\n",
       "      <td>7627705.93</td>\n",
       "      <td>C1918821785</td>\n",
       "      <td>323961.50</td>\n",
       "      <td>321928.56</td>\n",
       "      <td>No fraud</td>\n",
       "      <td>0</td>\n",
       "      <td>2.665902e-04</td>\n",
       "      <td>1.0</td>\n",
       "      <td>2032.93</td>\n",
       "    </tr>\n",
       "    <tr>\n",
       "      <th>16423</th>\n",
       "      <td>484</td>\n",
       "      <td>1</td>\n",
       "      <td>156220.74</td>\n",
       "      <td>C389614238</td>\n",
       "      <td>156220.74</td>\n",
       "      <td>0.00</td>\n",
       "      <td>C643171110</td>\n",
       "      <td>0.00</td>\n",
       "      <td>156220.74</td>\n",
       "      <td>Fraud</td>\n",
       "      <td>0</td>\n",
       "      <td>9.999994e-01</td>\n",
       "      <td>1.0</td>\n",
       "      <td>156220.74</td>\n",
       "    </tr>\n",
       "    <tr>\n",
       "      <th>16424</th>\n",
       "      <td>71</td>\n",
       "      <td>4</td>\n",
       "      <td>1871553.73</td>\n",
       "      <td>C677678546</td>\n",
       "      <td>1871553.73</td>\n",
       "      <td>0.00</td>\n",
       "      <td>C646623849</td>\n",
       "      <td>0.00</td>\n",
       "      <td>0.00</td>\n",
       "      <td>Fraud</td>\n",
       "      <td>0</td>\n",
       "      <td>9.999999e-01</td>\n",
       "      <td>1.0</td>\n",
       "      <td>1871553.73</td>\n",
       "    </tr>\n",
       "    <tr>\n",
       "      <th>16425</th>\n",
       "      <td>335</td>\n",
       "      <td>3</td>\n",
       "      <td>98932.38</td>\n",
       "      <td>C2033626434</td>\n",
       "      <td>1609496.52</td>\n",
       "      <td>1708428.90</td>\n",
       "      <td>C1360574838</td>\n",
       "      <td>3484293.51</td>\n",
       "      <td>3385361.13</td>\n",
       "      <td>No fraud</td>\n",
       "      <td>0</td>\n",
       "      <td>6.146790e-02</td>\n",
       "      <td>1.0</td>\n",
       "      <td>98932.38</td>\n",
       "    </tr>\n",
       "  </tbody>\n",
       "</table>\n",
       "<p>16426 rows × 14 columns</p>\n",
       "</div>"
      ],
      "text/plain": [
       "       step  type      amount     nameOrig  oldbalanceOrg  newbalanceOrig  \\\n",
       "0       397     3    76550.74   C658247527     1096252.93      1172803.66   \n",
       "1       251     2    12617.11  C1812418129      339181.87       326564.76   \n",
       "2        98     1     8055.06  C1544350298        8055.06            0.00   \n",
       "3       550     4   342309.91   C662184778      342309.91            0.00   \n",
       "4       586     1  2581549.92   C648614053     2581549.92            0.00   \n",
       "...     ...   ...         ...          ...            ...             ...   \n",
       "16421   382     1   542461.74   C664480557           0.00            0.00   \n",
       "16422    40     3     2032.93  C1544432489     7625673.00      7627705.93   \n",
       "16423   484     1   156220.74   C389614238      156220.74            0.00   \n",
       "16424    71     4  1871553.73   C677678546     1871553.73            0.00   \n",
       "16425   335     3    98932.38  C2033626434     1609496.52      1708428.90   \n",
       "\n",
       "          nameDest  oldbalanceDest  newbalanceDest   isFraud  isFlaggedFraud  \\\n",
       "0       C492670573      2208784.02      2132233.28  No fraud               0   \n",
       "1      M1924423059            0.00            0.00  No fraud               0   \n",
       "2       C912405348            0.00         8055.06     Fraud               0   \n",
       "3      C1740503020            0.00            0.00     Fraud               0   \n",
       "4       C213455810            0.00      2581549.92     Fraud               0   \n",
       "...            ...             ...             ...       ...             ...   \n",
       "16421  C1725191429      1757516.20      2299977.94  No fraud               0   \n",
       "16422  C1918821785       323961.50       321928.56  No fraud               0   \n",
       "16423   C643171110            0.00       156220.74     Fraud               0   \n",
       "16424   C646623849            0.00            0.00     Fraud               0   \n",
       "16425  C1360574838      3484293.51      3385361.13  No fraud               0   \n",
       "\n",
       "       amount_relative_to_balance_orig  newbalanceDest_rank  \\\n",
       "0                         6.982944e-02                  1.0   \n",
       "1                         3.719865e-02                  1.0   \n",
       "2                         9.999876e-01                  1.0   \n",
       "3                         9.999997e-01                  1.0   \n",
       "4                         1.000000e+00                  1.0   \n",
       "...                                ...                  ...   \n",
       "16421                     5.424617e+06                  1.0   \n",
       "16422                     2.665902e-04                  1.0   \n",
       "16423                     9.999994e-01                  1.0   \n",
       "16424                     9.999999e-01                  1.0   \n",
       "16425                     6.146790e-02                  1.0   \n",
       "\n",
       "       average_transaction_amount_dest  \n",
       "0                             76550.74  \n",
       "1                             12617.11  \n",
       "2                              8055.06  \n",
       "3                            342309.91  \n",
       "4                           2581549.92  \n",
       "...                                ...  \n",
       "16421                        542461.74  \n",
       "16422                          2032.93  \n",
       "16423                        156220.74  \n",
       "16424                       1871553.73  \n",
       "16425                         98932.38  \n",
       "\n",
       "[16426 rows x 14 columns]"
      ]
     },
     "execution_count": 39,
     "metadata": {},
     "output_type": "execute_result"
    }
   ],
   "source": [
    "df_resampled"
   ]
  },
  {
   "cell_type": "code",
   "execution_count": 40,
   "id": "f2da2b82",
   "metadata": {},
   "outputs": [
    {
     "data": {
      "text/plain": [
       "array([1. , 2. , 1.5, 3. ])"
      ]
     },
     "execution_count": 40,
     "metadata": {},
     "output_type": "execute_result"
    }
   ],
   "source": [
    "df_resampled['newbalanceDest_rank'].unique()"
   ]
  },
  {
   "cell_type": "markdown",
   "id": "0f3426d2",
   "metadata": {},
   "source": [
    "# First Model"
   ]
  },
  {
   "cell_type": "code",
   "execution_count": 41,
   "id": "8123dc8e",
   "metadata": {},
   "outputs": [],
   "source": [
    "X=df_resampled[['type','amount','oldbalanceOrg','newbalanceOrig','oldbalanceDest','newbalanceDest','isFlaggedFraud','amount_relative_to_balance_orig','newbalanceDest_rank','average_transaction_amount_dest']]\n",
    "Y=df_resampled.isFraud"
   ]
  },
  {
   "cell_type": "code",
   "execution_count": 42,
   "id": "9524f05b",
   "metadata": {},
   "outputs": [],
   "source": [
    "X_train,X_val,Y_train,Y_val=train_test_split(X,Y,test_size=0.2, random_state=42)"
   ]
  },
  {
   "cell_type": "code",
   "execution_count": 43,
   "id": "f38fc18b",
   "metadata": {},
   "outputs": [],
   "source": [
    "First_model= GaussianNB().fit(X_train,Y_train)"
   ]
  },
  {
   "cell_type": "code",
   "execution_count": 44,
   "id": "56913eae",
   "metadata": {},
   "outputs": [],
   "source": [
    "y_train_pred=First_model.predict(X_train)"
   ]
  },
  {
   "cell_type": "code",
   "execution_count": 45,
   "id": "502dfeb1",
   "metadata": {},
   "outputs": [],
   "source": [
    "First_accuracy_train= accuracy_score(Y_train,y_train_pred)\n",
    "First_conf_matrix_train= confusion_matrix(Y_train, y_train_pred)\n",
    "First_classification_report_train= classification_report(Y_train, y_train_pred)"
   ]
  },
  {
   "cell_type": "code",
   "execution_count": 46,
   "id": "e68007a2",
   "metadata": {
    "scrolled": false
   },
   "outputs": [
    {
     "name": "stdout",
     "output_type": "stream",
     "text": [
      "Accuracy of First Model on training set:0.7775\n",
      "Training set Confusion Matrix(First_model):\n",
      "[[4204 2345]\n",
      " [ 579 6012]]\n",
      "              precision    recall  f1-score   support\n",
      "\n",
      "       Fraud       0.88      0.64      0.74      6549\n",
      "    No fraud       0.72      0.91      0.80      6591\n",
      "\n",
      "    accuracy                           0.78     13140\n",
      "   macro avg       0.80      0.78      0.77     13140\n",
      "weighted avg       0.80      0.78      0.77     13140\n",
      "\n"
     ]
    }
   ],
   "source": [
    "print(f\"Accuracy of First Model on training set:{First_accuracy_train:.4f}\")\n",
    "print(\"Training set Confusion Matrix(First_model):\")\n",
    "print(First_conf_matrix_train)\n",
    "print(First_classification_report_train)"
   ]
  },
  {
   "cell_type": "code",
   "execution_count": 47,
   "id": "6be377ea",
   "metadata": {},
   "outputs": [],
   "source": [
    "y_val_pred=First_model.predict(X_val)"
   ]
  },
  {
   "cell_type": "code",
   "execution_count": 48,
   "id": "30d66825",
   "metadata": {},
   "outputs": [],
   "source": [
    "First_accuracy= accuracy_score(Y_val,y_val_pred)\n",
    "conf_matrix_First= confusion_matrix(Y_val, y_val_pred)\n",
    "classification_report_First= classification_report(Y_val, y_val_pred)"
   ]
  },
  {
   "cell_type": "code",
   "execution_count": 50,
   "id": "a13dc8b2",
   "metadata": {
    "scrolled": true
   },
   "outputs": [
    {
     "name": "stdout",
     "output_type": "stream",
     "text": [
      "First Model Accuracy:0.7559\n",
      "Confusion Matrix(First_model):\n",
      "[[1022  642]\n",
      " [ 160 1462]]\n",
      "              precision    recall  f1-score   support\n",
      "\n",
      "       Fraud       0.86      0.61      0.72      1664\n",
      "    No fraud       0.69      0.90      0.78      1622\n",
      "\n",
      "    accuracy                           0.76      3286\n",
      "   macro avg       0.78      0.76      0.75      3286\n",
      "weighted avg       0.78      0.76      0.75      3286\n",
      "\n"
     ]
    }
   ],
   "source": [
    "print(f\"First Model Accuracy:{First_accuracy:.4f}\")\n",
    "print(\"Confusion Matrix(First_model):\")\n",
    "print(conf_matrix_First)\n",
    "print(classification_report_First)"
   ]
  },
  {
   "cell_type": "code",
   "execution_count": 51,
   "id": "8685ee8b",
   "metadata": {},
   "outputs": [],
   "source": [
    "error_indices = [i for i, (true_val, pred_val) in enumerate(zip(Y_val, y_val_pred)) if true_val != pred_val]"
   ]
  },
  {
   "cell_type": "code",
   "execution_count": 52,
   "id": "3562a6fb",
   "metadata": {},
   "outputs": [],
   "source": [
    "# Reset index of X_val and Y_val\n",
    "X_val_reset = X_val.reset_index(drop=True)\n",
    "Y_val_reset = Y_val.reset_index(drop=True)\n",
    "\n",
    "# Use reset indices to extract X_improve and y_improve\n",
    "X_improve = X_val_reset.loc[error_indices]\n",
    "y_improve = Y_val_reset.loc[error_indices]\n"
   ]
  },
  {
   "cell_type": "code",
   "execution_count": 53,
   "id": "2bc598d5",
   "metadata": {
    "scrolled": true
   },
   "outputs": [
    {
     "data": {
      "text/plain": [
       "Fraud       642\n",
       "No fraud    160\n",
       "Name: isFraud, dtype: int64"
      ]
     },
     "execution_count": 53,
     "metadata": {},
     "output_type": "execute_result"
    }
   ],
   "source": [
    "y_improve.value_counts()"
   ]
  },
  {
   "cell_type": "code",
   "execution_count": 54,
   "id": "cb65695a",
   "metadata": {},
   "outputs": [],
   "source": [
    "from sklearn.preprocessing import StandardScaler\n",
    "\n",
    "scaler = StandardScaler()\n",
    "X_improved_scaled = scaler.fit_transform(X_improve)\n",
    "X_val_scaled = scaler.transform(X_val)"
   ]
  },
  {
   "cell_type": "code",
   "execution_count": 55,
   "id": "6b1a119d",
   "metadata": {
    "scrolled": true
   },
   "outputs": [
    {
     "data": {
      "text/html": [
       "<style>#sk-container-id-1 {color: black;background-color: white;}#sk-container-id-1 pre{padding: 0;}#sk-container-id-1 div.sk-toggleable {background-color: white;}#sk-container-id-1 label.sk-toggleable__label {cursor: pointer;display: block;width: 100%;margin-bottom: 0;padding: 0.3em;box-sizing: border-box;text-align: center;}#sk-container-id-1 label.sk-toggleable__label-arrow:before {content: \"▸\";float: left;margin-right: 0.25em;color: #696969;}#sk-container-id-1 label.sk-toggleable__label-arrow:hover:before {color: black;}#sk-container-id-1 div.sk-estimator:hover label.sk-toggleable__label-arrow:before {color: black;}#sk-container-id-1 div.sk-toggleable__content {max-height: 0;max-width: 0;overflow: hidden;text-align: left;background-color: #f0f8ff;}#sk-container-id-1 div.sk-toggleable__content pre {margin: 0.2em;color: black;border-radius: 0.25em;background-color: #f0f8ff;}#sk-container-id-1 input.sk-toggleable__control:checked~div.sk-toggleable__content {max-height: 200px;max-width: 100%;overflow: auto;}#sk-container-id-1 input.sk-toggleable__control:checked~label.sk-toggleable__label-arrow:before {content: \"▾\";}#sk-container-id-1 div.sk-estimator input.sk-toggleable__control:checked~label.sk-toggleable__label {background-color: #d4ebff;}#sk-container-id-1 div.sk-label input.sk-toggleable__control:checked~label.sk-toggleable__label {background-color: #d4ebff;}#sk-container-id-1 input.sk-hidden--visually {border: 0;clip: rect(1px 1px 1px 1px);clip: rect(1px, 1px, 1px, 1px);height: 1px;margin: -1px;overflow: hidden;padding: 0;position: absolute;width: 1px;}#sk-container-id-1 div.sk-estimator {font-family: monospace;background-color: #f0f8ff;border: 1px dotted black;border-radius: 0.25em;box-sizing: border-box;margin-bottom: 0.5em;}#sk-container-id-1 div.sk-estimator:hover {background-color: #d4ebff;}#sk-container-id-1 div.sk-parallel-item::after {content: \"\";width: 100%;border-bottom: 1px solid gray;flex-grow: 1;}#sk-container-id-1 div.sk-label:hover label.sk-toggleable__label {background-color: #d4ebff;}#sk-container-id-1 div.sk-serial::before {content: \"\";position: absolute;border-left: 1px solid gray;box-sizing: border-box;top: 0;bottom: 0;left: 50%;z-index: 0;}#sk-container-id-1 div.sk-serial {display: flex;flex-direction: column;align-items: center;background-color: white;padding-right: 0.2em;padding-left: 0.2em;position: relative;}#sk-container-id-1 div.sk-item {position: relative;z-index: 1;}#sk-container-id-1 div.sk-parallel {display: flex;align-items: stretch;justify-content: center;background-color: white;position: relative;}#sk-container-id-1 div.sk-item::before, #sk-container-id-1 div.sk-parallel-item::before {content: \"\";position: absolute;border-left: 1px solid gray;box-sizing: border-box;top: 0;bottom: 0;left: 50%;z-index: -1;}#sk-container-id-1 div.sk-parallel-item {display: flex;flex-direction: column;z-index: 1;position: relative;background-color: white;}#sk-container-id-1 div.sk-parallel-item:first-child::after {align-self: flex-end;width: 50%;}#sk-container-id-1 div.sk-parallel-item:last-child::after {align-self: flex-start;width: 50%;}#sk-container-id-1 div.sk-parallel-item:only-child::after {width: 0;}#sk-container-id-1 div.sk-dashed-wrapped {border: 1px dashed gray;margin: 0 0.4em 0.5em 0.4em;box-sizing: border-box;padding-bottom: 0.4em;background-color: white;}#sk-container-id-1 div.sk-label label {font-family: monospace;font-weight: bold;display: inline-block;line-height: 1.2em;}#sk-container-id-1 div.sk-label-container {text-align: center;}#sk-container-id-1 div.sk-container {/* jupyter's `normalize.less` sets `[hidden] { display: none; }` but bootstrap.min.css set `[hidden] { display: none !important; }` so we also need the `!important` here to be able to override the default hidden behavior on the sphinx rendered scikit-learn.org. See: https://github.com/scikit-learn/scikit-learn/issues/21755 */display: inline-block !important;position: relative;}#sk-container-id-1 div.sk-text-repr-fallback {display: none;}</style><div id=\"sk-container-id-1\" class=\"sk-top-container\"><div class=\"sk-text-repr-fallback\"><pre>RandomForestClassifier()</pre><b>In a Jupyter environment, please rerun this cell to show the HTML representation or trust the notebook. <br />On GitHub, the HTML representation is unable to render, please try loading this page with nbviewer.org.</b></div><div class=\"sk-container\" hidden><div class=\"sk-item\"><div class=\"sk-estimator sk-toggleable\"><input class=\"sk-toggleable__control sk-hidden--visually\" id=\"sk-estimator-id-1\" type=\"checkbox\" checked><label for=\"sk-estimator-id-1\" class=\"sk-toggleable__label sk-toggleable__label-arrow\">RandomForestClassifier</label><div class=\"sk-toggleable__content\"><pre>RandomForestClassifier()</pre></div></div></div></div></div>"
      ],
      "text/plain": [
       "RandomForestClassifier()"
      ]
     },
     "execution_count": 55,
     "metadata": {},
     "output_type": "execute_result"
    }
   ],
   "source": [
    "improved_model= RandomForestClassifier()\n",
    "improved_model.fit(X_improved_scaled, y_improve)"
   ]
  },
  {
   "cell_type": "code",
   "execution_count": 67,
   "id": "81ef02cf",
   "metadata": {},
   "outputs": [
    {
     "name": "stdout",
     "output_type": "stream",
     "text": [
      "Best Hyperparameters: {'max_depth': None, 'min_samples_leaf': 1, 'min_samples_split': 5, 'n_estimators': 50}\n",
      "Accuracy: 0.6615946439440049\n",
      "              precision    recall  f1-score   support\n",
      "\n",
      "       Fraud       0.60      0.98      0.75      1664\n",
      "    No fraud       0.96      0.33      0.49      1622\n",
      "\n",
      "    accuracy                           0.66      3286\n",
      "   macro avg       0.78      0.66      0.62      3286\n",
      "weighted avg       0.78      0.66      0.62      3286\n",
      "\n",
      "[[1639   25]\n",
      " [1087  535]]\n"
     ]
    }
   ],
   "source": [
    "from sklearn.model_selection import GridSearchCV\n",
    "\n",
    "\n",
    "# Define the hyperparameter grid to search\n",
    "param_grid = {\n",
    "    'n_estimators': [50, 100, 200],\n",
    "    'max_depth': [None, 10, 20],\n",
    "    'min_samples_split': [2, 5, 10],\n",
    "    'min_samples_leaf': [1, 2, 4]\n",
    "}\n",
    "\n",
    "# Use GridSearchCV to search for the best hyperparameters\n",
    "grid_search = GridSearchCV(estimator=improved_model, param_grid=param_grid, cv=5, scoring='accuracy', n_jobs=-1)\n",
    "grid_search.fit(X_improved_scaled, y_improve)\n",
    "\n",
    "# Print the best hyperparameters\n",
    "print(\"Best Hyperparameters:\", grid_search.best_params_)\n",
    "\n",
    "# Get the best model\n",
    "best_rf_model = grid_search.best_estimator_\n",
    "\n",
    "# Make predictions on the test set\n",
    "predictions = best_rf_model.predict(X_val_scaled)\n",
    "\n",
    "# Evaluate the model\n",
    "accuracy = accuracy_score(Y_val, predictions)\n",
    "print(f\"Accuracy: {accuracy}\")\n",
    "\n",
    "# Print classification report\n",
    "print(classification_report(Y_val, predictions))\n",
    "print(confusion_matrix(Y_val, predictions))"
   ]
  },
  {
   "cell_type": "code",
   "execution_count": 68,
   "id": "532464d9",
   "metadata": {},
   "outputs": [],
   "source": [
    "def combine_predictions(model1_preds, model2_preds):\n",
    "    combined_preds = []\n",
    "\n",
    "    if isinstance(model1_preds[0], str):\n",
    "        model1_preds = ['Fraud' if pred == 'Fraud' else 'No fraud' for pred in model1_preds]\n",
    "        model2_preds = ['Fraud' if pred == 'Fraud' else 'No fraud' for pred in model2_preds]\n",
    "\n",
    "    # Append results to the combined_preds array\n",
    "    for pred1, pred2 in zip(model1_preds, model2_preds):\n",
    "        if pred1 == 'Fraud' and pred2 == 'Fraud':\n",
    "            combined_preds.append('Fraud')\n",
    "        elif pred1 == 'No fraud' and pred2 == 'No fraud':\n",
    "            combined_preds.append('No fraud')\n",
    "        else:\n",
    "            combined_preds.append('No fraud')\n",
    "\n",
    "    return combined_preds\n",
    "\n"
   ]
  },
  {
   "cell_type": "code",
   "execution_count": 69,
   "id": "9b2671b3",
   "metadata": {},
   "outputs": [],
   "source": [
    "First_model_val_preds = First_model.predict(X_val)\n",
    "improved_model_val_preds = best_rf_model.predict(X_val_scaled)\n",
    "combined_val_preds = combine_predictions(First_model_val_preds, improved_model_val_preds)\n"
   ]
  },
  {
   "cell_type": "code",
   "execution_count": 70,
   "id": "20ea9b3f",
   "metadata": {},
   "outputs": [],
   "source": [
    "# Now, calculate classification metrics\n",
    "combined_accuracy = accuracy_score(Y_val, combined_val_preds)\n",
    "combined_matrix = confusion_matrix(Y_val, combined_val_preds)\n"
   ]
  },
  {
   "cell_type": "code",
   "execution_count": 71,
   "id": "04069189",
   "metadata": {
    "scrolled": true
   },
   "outputs": [
    {
     "name": "stdout",
     "output_type": "stream",
     "text": [
      "Confusion Matrix:\n",
      "[[ 997  667]\n",
      " [   0 1622]]\n",
      "\n",
      "Classification Report:\n",
      "              precision    recall  f1-score   support\n",
      "\n",
      "       Fraud       1.00      0.60      0.75      1664\n",
      "    No fraud       0.71      1.00      0.83      1622\n",
      "\n",
      "    accuracy                           0.80      3286\n",
      "   macro avg       0.85      0.80      0.79      3286\n",
      "weighted avg       0.86      0.80      0.79      3286\n",
      "\n",
      "\n",
      "Accuracy: 0.7970176506390748\n"
     ]
    }
   ],
   "source": [
    "from sklearn.metrics import classification_report\n",
    "\n",
    "# Assuming Y_val_binary and combined_val_preds_binary are defined\n",
    "print(\"Confusion Matrix:\")\n",
    "print(combined_matrix)\n",
    "\n",
    "print(\"\\nClassification Report:\")\n",
    "print(classification_report(Y_val, combined_val_preds))\n",
    "\n",
    "print(\"\\nAccuracy:\", combined_accuracy)\n"
   ]
  },
  {
   "cell_type": "code",
   "execution_count": 84,
   "id": "65cf1202",
   "metadata": {},
   "outputs": [
    {
     "data": {
      "text/plain": [
       "['combine_predictions.pkl']"
      ]
     },
     "execution_count": 84,
     "metadata": {},
     "output_type": "execute_result"
    }
   ],
   "source": [
    "import joblib\n",
    "\n",
    "# Save the first model\n",
    "joblib.dump(First_model, 'First_model.pkl')\n",
    "\n",
    "# Save the improved model\n",
    "joblib.dump(best_rf_model, 'Improved_model.pkl')\n",
    "\n",
    "# Save the combine_predictions function\n",
    "joblib.dump(combine_predictions, 'combine_predictions.pkl')\n"
   ]
  },
  {
   "cell_type": "code",
   "execution_count": 85,
   "id": "24301dca",
   "metadata": {},
   "outputs": [
    {
     "name": "stdout",
     "output_type": "stream",
     "text": [
      "<function combine_predictions at 0x000002AD86D131A0>\n"
     ]
    }
   ],
   "source": [
    "import joblib\n",
    "\n",
    "# Load the first model\n",
    "loaded_first_model = joblib.load('First_model.pkl')\n",
    "\n",
    "# Load the improved model\n",
    "loaded_improved_model = joblib.load('Improved_model.pkl')\n",
    "\n",
    "# Load the combine_predictions function\n",
    "loaded_combine_predictions = joblib.load('combine_predictions.pkl')\n",
    "\n",
    "# Print the content of the loaded function\n",
    "print(loaded_combine_predictions)\n"
   ]
  },
  {
   "cell_type": "code",
   "execution_count": 88,
   "id": "3d130036",
   "metadata": {},
   "outputs": [
    {
     "name": "stdout",
     "output_type": "stream",
     "text": [
      "<function combine_predictions at 0x000002AD86D131A0>\n"
     ]
    }
   ],
   "source": [
    "import pickle\n",
    "\n",
    "with open('combine_predictions.pkl', 'rb') as file:\n",
    "    content = pickle.load(file)\n",
    "    print(content)\n"
   ]
  },
  {
   "cell_type": "code",
   "execution_count": 77,
   "id": "c6c1cbff",
   "metadata": {},
   "outputs": [
    {
     "name": "stdout",
     "output_type": "stream",
     "text": [
      "No fraud    2289\n",
      "Fraud        997\n",
      "dtype: int64\n"
     ]
    }
   ],
   "source": [
    "import pandas as pd\n",
    "\n",
    "# Convert NumPy array to pandas Series\n",
    "combined_val_preds_series = pd.Series(combined_val_preds)\n",
    "print(combined_val_preds_series.value_counts())\n"
   ]
  },
  {
   "cell_type": "code",
   "execution_count": 93,
   "id": "66fb7f55",
   "metadata": {},
   "outputs": [
    {
     "name": "stdout",
     "output_type": "stream",
     "text": [
      "Predicted Result: No Fraud\n"
     ]
    },
    {
     "name": "stderr",
     "output_type": "stream",
     "text": [
      "C:\\Users\\USER-PC\\anaconda3\\Lib\\site-packages\\sklearn\\base.py:432: UserWarning: X has feature names, but RandomForestClassifier was fitted without feature names\n",
      "  warnings.warn(\n"
     ]
    }
   ],
   "source": [
    "import pandas as pd\n",
    "import pickle\n",
    "\n",
    "# Function to preprocess input data\n",
    "def preprocess_input(data):\n",
    "    # Convert 'type' feature to numerical encoding\n",
    "    type_mapping = {'PAYMENT': 2, 'TRANSFER': 4, 'CASH_OUT': 1, 'DEBIT': 5, 'CASH_IN': 3}\n",
    "\n",
    "    # Map the 'type' column to numerical values\n",
    "    data['type'] = data['type'].map(type_mapping)\n",
    "\n",
    "    # Implement other preprocessing steps based on your training data\n",
    "    # ...\n",
    "\n",
    "    # Return the preprocessed data\n",
    "    return data\n",
    "\n",
    "# Function to make predictions\n",
    "def make_predictions(model1, model2, input_data):\n",
    "    # Assuming model1 and model2 are loaded models\n",
    "    # Preprocess input data\n",
    "    preprocessed_data = preprocess_input(input_data)\n",
    "\n",
    "    # Make predictions using loaded models\n",
    "    pred1 = model1.predict(preprocessed_data)\n",
    "    pred2 = model2.predict(preprocessed_data)\n",
    "\n",
    "    # Combine predictions using the loaded_combine_predictions function\n",
    "    combined_preds = loaded_combine_predictions(pred1, pred2)\n",
    "\n",
    "    return combined_preds\n",
    "\n",
    "# Function to display prediction result\n",
    "def display_prediction_result(result):\n",
    "    if result[0] == 'Fraud':\n",
    "        print(\"Predicted Result: Fraud\")\n",
    "    else:\n",
    "        print(\"Predicted Result: No Fraud\")\n",
    "\n",
    "# Load the first model\n",
    "with open('First_model.pkl', 'rb') as model_file:\n",
    "    loaded_first_model = joblib.load(model_file)\n",
    "\n",
    "# Load the improved model\n",
    "with open('Improved_model.pkl', 'rb') as model_file:\n",
    "    loaded_improved_model = joblib.load(model_file)\n",
    "\n",
    "# Load the combine_predictions function\n",
    "with open('combine_predictions.pkl', 'rb') as model_file:\n",
    "    loaded_combine_predictions = joblib.load(model_file)\n",
    "\n",
    "# Example user input (replace these values with user input from your frontend)\n",
    "user_input = {\n",
    "    'type': 'TRANSFER',  # Replace with user input\n",
    "    'amount': 76550.74,  # Replace with user input\n",
    "    'oldbalanceOrg': 76550.74,  # Replace with user input\n",
    "    'newbalanceOrig': 0,  # Replace with user input\n",
    "    'oldbalanceDest': 2208784.02,  # Replace with user input\n",
    "    'newbalanceDest': 2132233.28,  # Replace with user input\n",
    "    'isFlaggedFraud': 1,  # Replace with user input\n",
    "    'amount_relative_to_balance_orig': 1.1,\n",
    "    'newbalanceDest_rank': 3.0,\n",
    "    'average_transaction_amount_dest': 76550.74\n",
    "}\n",
    "\n",
    "# Convert user input to a DataFrame\n",
    "user_input_df = pd.DataFrame([user_input])\n",
    "\n",
    "# Make predictions\n",
    "result = make_predictions( loaded_first_model,loaded_improved_model, user_input_df)\n",
    "\n",
    "# Display the predicted class labels directly\n",
    "display_prediction_result(result)\n"
   ]
  }
 ],
 "metadata": {
  "kernelspec": {
   "display_name": "Python 3 (ipykernel)",
   "language": "python",
   "name": "python3"
  },
  "language_info": {
   "codemirror_mode": {
    "name": "ipython",
    "version": 3
   },
   "file_extension": ".py",
   "mimetype": "text/x-python",
   "name": "python",
   "nbconvert_exporter": "python",
   "pygments_lexer": "ipython3",
   "version": "3.11.3"
  }
 },
 "nbformat": 4,
 "nbformat_minor": 5
}
